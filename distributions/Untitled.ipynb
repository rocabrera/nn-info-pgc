{
 "cells": [
  {
   "cell_type": "code",
   "execution_count": 1,
   "id": "014598ad-d04e-4f04-9024-956c11400e68",
   "metadata": {},
   "outputs": [],
   "source": [
    "import os\n",
    "import pandas as pd\n",
    "import numpy as np\n",
    "\n",
    "import matplotlib.pyplot as plt\n",
    "plt.style.use(\"ggplot\")"
   ]
  },
  {
   "cell_type": "code",
   "execution_count": 2,
   "id": "f15953ef-cd3e-4699-a36f-a2054897f9c7",
   "metadata": {
    "tags": []
   },
   "outputs": [
    {
     "name": "stdout",
     "output_type": "stream",
     "text": [
      "(500, 4)\n"
     ]
    },
    {
     "data": {
      "text/html": [
       "<div>\n",
       "<style scoped>\n",
       "    .dataframe tbody tr th:only-of-type {\n",
       "        vertical-align: middle;\n",
       "    }\n",
       "\n",
       "    .dataframe tbody tr th {\n",
       "        vertical-align: top;\n",
       "    }\n",
       "\n",
       "    .dataframe thead th {\n",
       "        text-align: right;\n",
       "    }\n",
       "</style>\n",
       "<table border=\"1\" class=\"dataframe\">\n",
       "  <thead>\n",
       "    <tr style=\"text-align: right;\">\n",
       "      <th></th>\n",
       "      <th>X1</th>\n",
       "      <th>X2</th>\n",
       "      <th>X3</th>\n",
       "      <th>T</th>\n",
       "    </tr>\n",
       "  </thead>\n",
       "  <tbody>\n",
       "    <tr>\n",
       "      <th>0</th>\n",
       "      <td>-0.0579</td>\n",
       "      <td>0.0000</td>\n",
       "      <td>0.0000</td>\n",
       "      <td>-1</td>\n",
       "    </tr>\n",
       "    <tr>\n",
       "      <th>1</th>\n",
       "      <td>-1.6873</td>\n",
       "      <td>-0.0579</td>\n",
       "      <td>0.0000</td>\n",
       "      <td>-1</td>\n",
       "    </tr>\n",
       "    <tr>\n",
       "      <th>2</th>\n",
       "      <td>-8.5791</td>\n",
       "      <td>-1.6873</td>\n",
       "      <td>-0.0579</td>\n",
       "      <td>-1</td>\n",
       "    </tr>\n",
       "    <tr>\n",
       "      <th>3</th>\n",
       "      <td>-0.0361</td>\n",
       "      <td>-8.5791</td>\n",
       "      <td>-1.6873</td>\n",
       "      <td>1</td>\n",
       "    </tr>\n",
       "    <tr>\n",
       "      <th>4</th>\n",
       "      <td>2.2593</td>\n",
       "      <td>-0.0361</td>\n",
       "      <td>-8.5791</td>\n",
       "      <td>1</td>\n",
       "    </tr>\n",
       "  </tbody>\n",
       "</table>\n",
       "</div>"
      ],
      "text/plain": [
       "       X1      X2      X3  T\n",
       "0 -0.0579  0.0000  0.0000 -1\n",
       "1 -1.6873 -0.0579  0.0000 -1\n",
       "2 -8.5791 -1.6873 -0.0579 -1\n",
       "3 -0.0361 -8.5791 -1.6873  1\n",
       "4  2.2593 -0.0361 -8.5791  1"
      ]
     },
     "execution_count": 2,
     "metadata": {},
     "output_type": "execute_result"
    }
   ],
   "source": [
    "path_data = os.path.join(\"data\", \"amostras_continuo.txt\")\n",
    "df = pd.read_csv(path_data, sep=\" \", header=None, names=[\"X1\", \"X2\", \"X3\", \"T\"])\n",
    "print(df.shape)\n",
    "df.head()"
   ]
  },
  {
   "cell_type": "code",
   "execution_count": 3,
   "id": "eef93f25-f6ad-4073-a27d-b9ef6d628ddb",
   "metadata": {},
   "outputs": [],
   "source": [
    "def gaussian(x:int, mu:float, sig:float):\n",
    "    return np.exp(-np.power(x - mu, 2) / (2 * np.power(sig, 2.)))\n",
    "\n",
    "stats = df[\"X1\"].describe()\n",
    "sigma = 2\n",
    "mean = stats.loc['mean']\n",
    "min_ = stats.loc['min']\n",
    "max_ = stats.loc['max']"
   ]
  },
  {
   "cell_type": "code",
   "execution_count": 4,
   "id": "5d6a7ed9-186a-4b0a-b721-cc6e82247226",
   "metadata": {},
   "outputs": [
    {
     "data": {
      "text/html": [
       "<div>\n",
       "<style scoped>\n",
       "    .dataframe tbody tr th:only-of-type {\n",
       "        vertical-align: middle;\n",
       "    }\n",
       "\n",
       "    .dataframe tbody tr th {\n",
       "        vertical-align: top;\n",
       "    }\n",
       "\n",
       "    .dataframe thead th {\n",
       "        text-align: right;\n",
       "    }\n",
       "</style>\n",
       "<table border=\"1\" class=\"dataframe\">\n",
       "  <thead>\n",
       "    <tr style=\"text-align: right;\">\n",
       "      <th></th>\n",
       "      <th>X1</th>\n",
       "      <th>X2</th>\n",
       "    </tr>\n",
       "  </thead>\n",
       "  <tbody>\n",
       "    <tr>\n",
       "      <th>X1</th>\n",
       "      <td>5.718951</td>\n",
       "      <td>2.883025</td>\n",
       "    </tr>\n",
       "    <tr>\n",
       "      <th>X2</th>\n",
       "      <td>2.883025</td>\n",
       "      <td>5.711084</td>\n",
       "    </tr>\n",
       "  </tbody>\n",
       "</table>\n",
       "</div>"
      ],
      "text/plain": [
       "          X1        X2\n",
       "X1  5.718951  2.883025\n",
       "X2  2.883025  5.711084"
      ]
     },
     "execution_count": 4,
     "metadata": {},
     "output_type": "execute_result"
    }
   ],
   "source": [
    "df.filter([\"X1\",\"X2\"]).cov()"
   ]
  },
  {
   "cell_type": "markdown",
   "id": "31cba13e-330f-4a50-bec3-3817ef9a0564",
   "metadata": {},
   "source": [
    "**Entropia - Parzen window**\n",
    "\n",
    "$$\n",
    "\\hat{J}_{HS} = - \\frac{1}{N_x}\\sum_{i=1}^{N_x}\\log \\left(\\frac{1}{N_x}\\sum_{j=1}^{N_x}G_{\\sigma^2}(x_i - x_j)\\right)\n",
    "$$"
   ]
  },
  {
   "cell_type": "code",
   "execution_count": 5,
   "id": "c1191d3d-1ca3-4c63-ada5-09b03be6ed6d",
   "metadata": {},
   "outputs": [
    {
     "name": "stdout",
     "output_type": "stream",
     "text": [
      "1.9252367242880766\n"
     ]
    }
   ],
   "source": [
    "sigma = 1\n",
    "N_x = len(df[\"X1\"])\n",
    "\n",
    "aux = []\n",
    "\n",
    "for i in df[\"X1\"]:\n",
    "    aux.append(np.log2(sum(gaussian(i,j, sigma) for j in df[\"X1\"])/N_x))\n",
    "    \n",
    "print((-1/N_x)*sum(aux))"
   ]
  },
  {
   "cell_type": "code",
   "execution_count": 6,
   "id": "3c7794f5-d3f1-4b45-b0af-9fedb03140d1",
   "metadata": {},
   "outputs": [
    {
     "data": {
      "text/plain": [
       "1.9252367242880766"
      ]
     },
     "execution_count": 6,
     "metadata": {},
     "output_type": "execute_result"
    }
   ],
   "source": [
    "sigma = 1\n",
    "N_x = len(df[\"X1\"])\n",
    "\n",
    "j_hs = (-1/N_x)*sum(np.log2(sum(gaussian(i,j, sigma) for j in df[\"X1\"])/N_x) for i in df[\"X1\"])\n",
    "j_hs"
   ]
  },
  {
   "cell_type": "code",
   "execution_count": 7,
   "id": "8d4e523f-989e-4514-931b-1416d228417f",
   "metadata": {},
   "outputs": [],
   "source": [
    "j_hs = (-1/N_x)*sum(np.log2(sum(gaussian(i, df[\"X1\"],sigma))/N_x) for i in df[\"X1\"])\n"
   ]
  },
  {
   "cell_type": "code",
   "execution_count": 8,
   "id": "6cdc455b-14c4-4522-8557-d2842efe43b6",
   "metadata": {},
   "outputs": [
    {
     "data": {
      "text/plain": [
       "X1    1.925237\n",
       "X2    1.923050\n",
       "X3    1.922854\n",
       "T     0.815314\n",
       "dtype: float64"
      ]
     },
     "execution_count": 8,
     "metadata": {},
     "output_type": "execute_result"
    }
   ],
   "source": [
    "from stats import get_continuos_entropy\n",
    "\n",
    "df.apply(get_continuos_entropy, args = [gaussian, 1])"
   ]
  },
  {
   "cell_type": "code",
   "execution_count": null,
   "id": "7c80ff09-66a7-4315-8d72-186157dc5708",
   "metadata": {
    "tags": []
   },
   "outputs": [],
   "source": [
    "import numpy as np\n",
    "\n",
    "np.array([1,2,3,4,5]).sum()"
   ]
  },
  {
   "cell_type": "code",
   "execution_count": null,
   "id": "17005a85-85eb-4004-b310-832b64e6e212",
   "metadata": {},
   "outputs": [],
   "source": [
    "def gaussian(x:int, mu:float, sig:float):\n",
    "    return np.exp(-np.power(x - mu, 2) / (2 * np.power(sig, 2.)))\n",
    "\n",
    "gaussian(np.asarray([1,2,3]), 2, 2)"
   ]
  },
  {
   "cell_type": "markdown",
   "id": "0a077603-be94-4f25-8609-2d93913eeba8",
   "metadata": {},
   "source": [
    "**numpy.linspace**\n",
    "> Return evenly spaced numbers over a specified interval."
   ]
  },
  {
   "cell_type": "code",
   "execution_count": null,
   "id": "ae6b9928-08c3-4345-9840-4cd725682a59",
   "metadata": {},
   "outputs": [],
   "source": [
    "x_i = np.linspace(min_, max_, 100)"
   ]
  },
  {
   "cell_type": "code",
   "execution_count": null,
   "id": "a3ba177d-9b97-407c-9b73-c2b3401136d5",
   "metadata": {},
   "outputs": [],
   "source": [
    "for x_j in range(1,4):\n",
    "    y = list(map(lambda x: gaussian(x-x_j,mean,sigma),x_i))\n",
    "    plt.plot(x_i, y)\n",
    "    \n",
    "plt.show()"
   ]
  },
  {
   "cell_type": "code",
   "execution_count": null,
   "id": "f1e9ec86-588a-4b92-8b59-65951828c161",
   "metadata": {},
   "outputs": [],
   "source": [
    "N_x = len(df[\"X1\"])\n",
    "\n",
    "gaussians = np.array([list(map(lambda x: gaussian(x-x_j,mean,sigma)/N_x, x_i)) for x_j in df[\"X1\"]])"
   ]
  },
  {
   "cell_type": "code",
   "execution_count": null,
   "id": "3fe609c0-dca1-4574-8f79-7ae98569b224",
   "metadata": {},
   "outputs": [],
   "source": [
    "gaussians.shape"
   ]
  },
  {
   "cell_type": "code",
   "execution_count": null,
   "id": "3174a5a7-2f24-4843-baa9-9443e9719c99",
   "metadata": {},
   "outputs": [],
   "source": [
    "for gaussian in gaussians:\n",
    "    plt.plot(x_i, gaussian)\n",
    "plt.show()"
   ]
  },
  {
   "cell_type": "code",
   "execution_count": null,
   "id": "58a7ab97-253a-4526-8b16-a32d0950c8b5",
   "metadata": {},
   "outputs": [],
   "source": [
    "plt.plot(x_i,gaussians.sum(axis=0))\n",
    "plt.show()"
   ]
  },
  {
   "cell_type": "code",
   "execution_count": null,
   "id": "5fa29b99-17bb-49e6-bf41-773d205191b6",
   "metadata": {},
   "outputs": [],
   "source": [
    "def gaussian(x:int, mu:float, sig:float):\n",
    "    return np.exp(-np.power(x - mu, 2) / (2 * np.power(sig, 2.)))\n",
    "\n",
    "def get_entropy_density(x:pd.Series, kernel=\"gaussian\", kernel_size=0.3, num_xi=100):\n",
    "\n",
    "    stats = x.describe()\n",
    "    mu, min_, max_ = stats.loc['mean'], stats.loc['min'], stats.loc['max']\n",
    "    x_i = np.linspace(min_, max_, num_xi)    \n",
    "    \n",
    "    N_x = len(x)\n",
    "    gaussians = np.array([list(map(lambda x: gaussian(x-x_j,mu,kernel_size)/N_x, x_i)) for x_j in x])\n",
    "    \n",
    "    return -sum(np.log2(gaussians.sum(axis=0)))/num_xi\n",
    "\n",
    "get_entropy_density(df[\"X1\"])"
   ]
  },
  {
   "cell_type": "code",
   "execution_count": null,
   "id": "4f31fd6f-f57c-425a-af54-2c97ca841389",
   "metadata": {},
   "outputs": [],
   "source": [
    "get_entropy_density(df[\"X2\"])"
   ]
  },
  {
   "cell_type": "code",
   "execution_count": null,
   "id": "75755234-49df-4811-b625-30541b168aa2",
   "metadata": {},
   "outputs": [],
   "source": [
    "get_entropy_density(df[\"X3\"])"
   ]
  },
  {
   "cell_type": "code",
   "execution_count": null,
   "id": "073a13ad-b6c7-4c53-9b5c-bd8dce87cbac",
   "metadata": {},
   "outputs": [],
   "source": [
    "df.filter([\"X1\", \"X2\"]).cov()"
   ]
  },
  {
   "cell_type": "code",
   "execution_count": null,
   "id": "bfeda1d8-813a-465c-932a-b0cf33dbb48c",
   "metadata": {},
   "outputs": [],
   "source": [
    "import numpy as np\n",
    "from scipy.stats import multivariate_normal"
   ]
  },
  {
   "cell_type": "code",
   "execution_count": null,
   "id": "a5d1cf52-4f26-4697-a2f5-efb3601ddfe4",
   "metadata": {},
   "outputs": [],
   "source": [
    "cov = df.filter([\"X1\", \"X2\"]).cov().to_numpy()\n",
    "mean = df.mean().loc[[\"X1\",\"X2\"]].to_numpy()\n",
    "\n",
    "min1 = df[\"X1\"].min()\n",
    "min2 = df[\"X2\"].min()\n",
    "\n",
    "max1 = df[\"X1\"].max()\n",
    "max2 = df[\"X2\"].max()\n",
    "\n",
    "X1 = np.linspace(min1,max1,100)\n",
    "X2 = np.linspace(min2,max2,100)\n",
    "X1,X2 = np.meshgrid(X1,X2)\n",
    "grid=np.array([X1.flatten(),X2.flatten()]).T"
   ]
  },
  {
   "cell_type": "code",
   "execution_count": null,
   "id": "285efcfd-c6da-44f3-bfbd-6f4fdcf79612",
   "metadata": {},
   "outputs": [],
   "source": [
    "dist = multivariate_normal.pdf(grid,mean,cov)"
   ]
  },
  {
   "cell_type": "code",
   "execution_count": null,
   "id": "4b5513be-e379-440c-95bb-8a437cc0d02f",
   "metadata": {},
   "outputs": [],
   "source": [
    "dist.shape"
   ]
  },
  {
   "cell_type": "code",
   "execution_count": null,
   "id": "02e0792f-e04e-4c05-946a-d0015ebb86bc",
   "metadata": {},
   "outputs": [],
   "source": [
    "'''\n",
    "Caculate the multivariate normal density (pdf)\n",
    "\n",
    "Keyword arguments:\n",
    "    x = numpy array of a \"d x 1\" sample vector\n",
    "    mu = numpy array of a \"d x 1\" mean vector\n",
    "    cov = \"numpy array of a d x d\" covariance matrix\n",
    "'''\n",
    "numerator = -1/2\n",
    "part1 = 1/(((2* np.pi)**(len(mu)/2))*(np.linalg.det(cov)**(1/2)) )\n",
    "part2 = (-1/2) * ((x-mu).T.dot(np.linalg.inv(cov))).dot((x-mu))\n",
    "float(part1 * np.exp(part2))"
   ]
  },
  {
   "cell_type": "code",
   "execution_count": null,
   "id": "f03e81c7-708b-48a2-b059-5f3e749d26a8",
   "metadata": {},
   "outputs": [],
   "source": [
    "dist.pdf([1,2])"
   ]
  },
  {
   "cell_type": "code",
   "execution_count": null,
   "id": "5410ca38-e000-4f08-b4b1-12bf9e259ea9",
   "metadata": {},
   "outputs": [],
   "source": []
  }
 ],
 "metadata": {
  "kernelspec": {
   "display_name": "venv_playground",
   "language": "python",
   "name": "venv_playground"
  },
  "language_info": {
   "codemirror_mode": {
    "name": "ipython",
    "version": 3
   },
   "file_extension": ".py",
   "mimetype": "text/x-python",
   "name": "python",
   "nbconvert_exporter": "python",
   "pygments_lexer": "ipython3",
   "version": "3.9.4"
  }
 },
 "nbformat": 4,
 "nbformat_minor": 5
}
