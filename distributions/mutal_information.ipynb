{
 "cells": [
  {
   "cell_type": "code",
   "execution_count": 1,
   "id": "fdfa4467-ae5d-4deb-9eeb-d70d34f43671",
   "metadata": {},
   "outputs": [
    {
     "ename": "ModuleNotFoundError",
     "evalue": "No module named 'stats'",
     "output_type": "error",
     "traceback": [
      "\u001b[0;31m---------------------------------------------------------------------------\u001b[0m",
      "\u001b[0;31mModuleNotFoundError\u001b[0m                       Traceback (most recent call last)",
      "\u001b[0;32m/tmp/ipykernel_27739/3120195930.py\u001b[0m in \u001b[0;36m<module>\u001b[0;34m\u001b[0m\n\u001b[1;32m      7\u001b[0m \u001b[0;32mimport\u001b[0m \u001b[0mseaborn\u001b[0m \u001b[0;32mas\u001b[0m \u001b[0msns\u001b[0m\u001b[0;34m\u001b[0m\u001b[0;34m\u001b[0m\u001b[0m\n\u001b[1;32m      8\u001b[0m \u001b[0;32mfrom\u001b[0m \u001b[0msklearn\u001b[0m\u001b[0;34m.\u001b[0m\u001b[0mdatasets\u001b[0m \u001b[0;32mimport\u001b[0m \u001b[0mload_iris\u001b[0m\u001b[0;34m\u001b[0m\u001b[0;34m\u001b[0m\u001b[0m\n\u001b[0;32m----> 9\u001b[0;31m \u001b[0;32mfrom\u001b[0m \u001b[0mstats\u001b[0m \u001b[0;32mimport\u001b[0m \u001b[0mget_entropy\u001b[0m\u001b[0;34m,\u001b[0m \u001b[0mentropy_metric\u001b[0m\u001b[0;34m\u001b[0m\u001b[0;34m\u001b[0m\u001b[0m\n\u001b[0m\u001b[1;32m     10\u001b[0m \u001b[0;34m\u001b[0m\u001b[0m\n\u001b[1;32m     11\u001b[0m \u001b[0mplt\u001b[0m\u001b[0;34m.\u001b[0m\u001b[0mstyle\u001b[0m\u001b[0;34m.\u001b[0m\u001b[0muse\u001b[0m\u001b[0;34m(\u001b[0m\u001b[0;34m\"ggplot\"\u001b[0m\u001b[0;34m)\u001b[0m\u001b[0;34m\u001b[0m\u001b[0;34m\u001b[0m\u001b[0m\n",
      "\u001b[0;31mModuleNotFoundError\u001b[0m: No module named 'stats'"
     ]
    }
   ],
   "source": [
    "import tqdm\n",
    "import random\n",
    "import numpy as np\n",
    "import pandas as pd\n",
    "from scipy import stats\n",
    "import matplotlib.pyplot as plt\n",
    "import seaborn as sns\n",
    "from sklearn.datasets import load_iris\n",
    "from stats import get_entropy, entropy_metric\n",
    "\n",
    "plt.style.use(\"ggplot\")\n",
    "pd.options.display.float_format = \"{:,.6f}\".format"
   ]
  },
  {
   "cell_type": "code",
   "execution_count": null,
   "id": "3b27211c-4eb2-4afd-9594-1b6298b4aace",
   "metadata": {},
   "outputs": [],
   "source": [
    "bunch = load_iris()\n",
    "X, y = bunch[\"data\"], bunch[\"target\"]\n",
    "df = pd.concat([pd.DataFrame(X, columns=[f\"X{i}\" for i in range(X.shape[1])]),\n",
    "                pd.Series(y,name=\"Y\")],axis=1)"
   ]
  },
  {
   "cell_type": "code",
   "execution_count": null,
   "id": "4b5dcdb7-8829-4c94-94a9-8a638d08afe0",
   "metadata": {},
   "outputs": [],
   "source": [
    "def get_mutual_information(df:pd.DataFrame):\n",
    "    marginal_probabilitys = df.apply(get_entropy)\n",
    "    joint_probability = entropy_metric(df.groupby(df.columns.tolist())\n",
    "                                          .size()\n",
    "                                          .div(len(df)))\n",
    "\n",
    "    return marginal_probabilitys.sum() - joint_probability\n",
    "\n",
    "get_mutual_information(df)"
   ]
  },
  {
   "cell_type": "code",
   "execution_count": null,
   "id": "ee6c62b6-63f9-465d-b41c-d6d391547d8d",
   "metadata": {
    "tags": []
   },
   "outputs": [],
   "source": [
    "def create_bins(x, n_bin):\n",
    "    aux = pd.cut(x,n_bin)\n",
    "    return aux\n",
    "\n",
    "for bins in range(1, 2):\n",
    "    i2 = (df.apply(create_bins, args=[bins])\n",
    "             .pipe(get_mutual_information) \n",
    "         )\n",
    "    print(f\"\\033[1mbins:{bins} - I(X,T1,T2) estimada: {i2:.8f}\\n\\033[0m\")    "
   ]
  },
  {
   "cell_type": "code",
   "execution_count": null,
   "id": "7d4f2db2-74d1-4c7e-9bcd-4930ca3051c1",
   "metadata": {},
   "outputs": [],
   "source": [
    "sns.pairplot(df)"
   ]
  },
  {
   "cell_type": "code",
   "execution_count": null,
   "id": "5f716c01-5930-412b-b706-1218e6f742f9",
   "metadata": {},
   "outputs": [],
   "source": [
    "qtd_bins = 40\n",
    "\n",
    "fig, ax = plt.subplots(1,1,figsize = (10,4))\n",
    "variables = [[\"X2\", \"X3\"], [\"X1\", \"X3\"], [\"X0\", \"X1\"], [\"X0\", \"X3\"]]\n",
    "\n",
    "for var in tqdm.tqdm(variables):\n",
    "    info = [df.filter(var).apply(create_bins, args=[bins]).pipe(get_mutual_information) \n",
    "         for bins in range(1,qtd_bins)]\n",
    "    ax.plot(info, label=f\"I({var[0]},{var[1]})\")\n",
    "ax.set_ylabel(f\"Informação mútua\")\n",
    "ax.set_xlabel(f\"Números de bins\")\n",
    "\n",
    "plt.legend()\n",
    "plt.tight_layout()\n",
    "plt.show()"
   ]
  },
  {
   "cell_type": "code",
   "execution_count": null,
   "id": "e2b7c948-f624-4ffe-97cc-4a93399a623b",
   "metadata": {},
   "outputs": [],
   "source": [
    "qtd_bins = 40\n",
    "\n",
    "fig, ax = plt.subplots(1,1,figsize = (10,4))\n",
    "variables = [[\"X0\", \"Y\"], [\"X1\", \"Y\"], [\"X2\", \"Y\"], [\"X3\", \"Y\"]]\n",
    "\n",
    "for var in tqdm.tqdm(variables):\n",
    "    info = [df.filter(var).apply(create_bins, args=[bins]).pipe(get_mutual_information) \n",
    "         for bins in range(1,qtd_bins)]\n",
    "    ax.plot(info, label=f\"I({var[0]},{var[1]})\")\n",
    "ax.set_ylabel(f\"Informação mútua\")\n",
    "ax.set_xlabel(f\"Números de bins\")\n",
    "\n",
    "plt.legend()\n",
    "plt.tight_layout()\n",
    "plt.show()"
   ]
  }
 ],
 "metadata": {
  "kernelspec": {
   "display_name": "venv_playground",
   "language": "python",
   "name": "venv_playground"
  },
  "language_info": {
   "codemirror_mode": {
    "name": "ipython",
    "version": 3
   },
   "file_extension": ".py",
   "mimetype": "text/x-python",
   "name": "python",
   "nbconvert_exporter": "python",
   "pygments_lexer": "ipython3",
   "version": "3.9.6"
  }
 },
 "nbformat": 4,
 "nbformat_minor": 5
}
