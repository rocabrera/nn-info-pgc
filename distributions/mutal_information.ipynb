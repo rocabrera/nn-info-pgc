{
 "cells": [
  {
   "cell_type": "code",
   "execution_count": 16,
   "id": "fdfa4467-ae5d-4deb-9eeb-d70d34f43671",
   "metadata": {},
   "outputs": [],
   "source": [
    "import pandas as pd\n",
    "pd.options.display.float_format = \"{:,.6f}\".format"
   ]
  },
  {
   "cell_type": "code",
   "execution_count": 2,
   "id": "a9da4cbf-f3f3-4f56-ac0a-196d655bb4db",
   "metadata": {},
   "outputs": [],
   "source": [
    "df1 = pd.read_csv(\"data/amostras.txt\",sep=\" \",header=None,names=[\"X\", \"T\"])\n",
    "df2 = pd.read_csv(\"data/amostras_2T.txt\",sep=\" \",header=None,names=[\"X\", \"T1\", \"T2\"])"
   ]
  },
  {
   "cell_type": "markdown",
   "id": "237226b6-6268-41ee-aaeb-2c5f4065254f",
   "metadata": {},
   "source": [
    "Entropia:\n",
    "\n",
    "$$\n",
    "H(X) = - \\sum_{x \\in X} p(x) \\log p(x)\n",
    "$$"
   ]
  },
  {
   "cell_type": "code",
   "execution_count": 17,
   "id": "44b25230-78a9-4efa-abe4-70465c6358c2",
   "metadata": {},
   "outputs": [
    {
     "data": {
      "text/html": [
       "<div>\n",
       "<style scoped>\n",
       "    .dataframe tbody tr th:only-of-type {\n",
       "        vertical-align: middle;\n",
       "    }\n",
       "\n",
       "    .dataframe tbody tr th {\n",
       "        vertical-align: top;\n",
       "    }\n",
       "\n",
       "    .dataframe thead th {\n",
       "        text-align: right;\n",
       "    }\n",
       "</style>\n",
       "<table border=\"1\" class=\"dataframe\">\n",
       "  <thead>\n",
       "    <tr style=\"text-align: right;\">\n",
       "      <th></th>\n",
       "      <th></th>\n",
       "      <th>count</th>\n",
       "    </tr>\n",
       "    <tr>\n",
       "      <th>X</th>\n",
       "      <th>T</th>\n",
       "      <th></th>\n",
       "    </tr>\n",
       "  </thead>\n",
       "  <tbody>\n",
       "    <tr>\n",
       "      <th rowspan=\"3\" valign=\"top\">-2.000000</th>\n",
       "      <th>-1.000000</th>\n",
       "      <td>0.134000</td>\n",
       "    </tr>\n",
       "    <tr>\n",
       "      <th>0.000000</th>\n",
       "      <td>0.057000</td>\n",
       "    </tr>\n",
       "    <tr>\n",
       "      <th>1.000000</th>\n",
       "      <td>0.034000</td>\n",
       "    </tr>\n",
       "    <tr>\n",
       "      <th rowspan=\"3\" valign=\"top\">-1.000000</th>\n",
       "      <th>-1.000000</th>\n",
       "      <td>0.092000</td>\n",
       "    </tr>\n",
       "    <tr>\n",
       "      <th>0.000000</th>\n",
       "      <td>0.157000</td>\n",
       "    </tr>\n",
       "    <tr>\n",
       "      <th>1.000000</th>\n",
       "      <td>0.136000</td>\n",
       "    </tr>\n",
       "    <tr>\n",
       "      <th rowspan=\"3\" valign=\"top\">1.500000</th>\n",
       "      <th>-1.000000</th>\n",
       "      <td>0.102000</td>\n",
       "    </tr>\n",
       "    <tr>\n",
       "      <th>0.000000</th>\n",
       "      <td>0.147000</td>\n",
       "    </tr>\n",
       "    <tr>\n",
       "      <th>1.000000</th>\n",
       "      <td>0.141000</td>\n",
       "    </tr>\n",
       "  </tbody>\n",
       "</table>\n",
       "</div>"
      ],
      "text/plain": [
       "                       count\n",
       "X         T                 \n",
       "-2.000000 -1.000000 0.134000\n",
       "          0.000000  0.057000\n",
       "          1.000000  0.034000\n",
       "-1.000000 -1.000000 0.092000\n",
       "          0.000000  0.157000\n",
       "          1.000000  0.136000\n",
       "1.500000  -1.000000 0.102000\n",
       "          0.000000  0.147000\n",
       "          1.000000  0.141000"
      ]
     },
     "execution_count": 17,
     "metadata": {},
     "output_type": "execute_result"
    }
   ],
   "source": [
    "df1.groupby([\"X\", \"T\"]).count()/len(df1)"
   ]
  },
  {
   "cell_type": "code",
   "execution_count": 8,
   "id": "8652b644-e547-462e-8a3e-273b2ce347aa",
   "metadata": {},
   "outputs": [
    {
     "data": {
      "text/plain": [
       "0.39"
      ]
     },
     "execution_count": 8,
     "metadata": {},
     "output_type": "execute_result"
    }
   ],
   "source": [
    "390/(390 + 385 + 225)"
   ]
  },
  {
   "cell_type": "code",
   "execution_count": null,
   "id": "b5b1afc8-f3a9-4e0a-bb64-18159040924a",
   "metadata": {},
   "outputs": [],
   "source": []
  }
 ],
 "metadata": {
  "kernelspec": {
   "display_name": "venv_playground",
   "language": "python",
   "name": "venv_playground"
  },
  "language_info": {
   "codemirror_mode": {
    "name": "ipython",
    "version": 3
   },
   "file_extension": ".py",
   "mimetype": "text/x-python",
   "name": "python",
   "nbconvert_exporter": "python",
   "pygments_lexer": "ipython3",
   "version": "3.9.4"
  }
 },
 "nbformat": 4,
 "nbformat_minor": 5
}
