{
 "cells": [
  {
   "cell_type": "code",
   "execution_count": 1,
   "id": "fdfa4467-ae5d-4deb-9eeb-d70d34f43671",
   "metadata": {},
   "outputs": [],
   "source": [
    "import random\n",
    "import numpy as np\n",
    "import pandas as pd\n",
    "from scipy import stats\n",
    "import matplotlib.pyplot as plt\n",
    "\n",
    "from stats import get_entropy \n",
    "\n",
    "plt.style.use(\"ggplot\")\n",
    "pd.options.display.float_format = \"{:,.6f}\".format"
   ]
  },
  {
   "cell_type": "markdown",
   "id": "ffe667d1-f8f2-468d-b3ef-6f6b4010ab89",
   "metadata": {},
   "source": [
    "# **Dados teóricos** "
   ]
  },
  {
   "cell_type": "markdown",
   "id": "03613a87-cc51-4770-a086-bd1ea1b18673",
   "metadata": {
    "tags": []
   },
   "source": [
    "## **Definições**\n",
    "\n",
    "**Entropia:**\n",
    "\n",
    "$$\n",
    "H(X) = - \\sum_{x \\in X} p(x) \\log p(x)\n",
    "$$\n",
    "\n",
    "**Informação mútua:**\n",
    "\n",
    "$$I(X, T) = H(X) + H(T) - H(X,T)$$"
   ]
  },
  {
   "cell_type": "code",
   "execution_count": 2,
   "id": "3e22d303-f65a-41c0-a1c2-b2d73f940ffd",
   "metadata": {},
   "outputs": [],
   "source": [
    "# distribuição teórica de X\n",
    "X = [1.5,-1,-2]\n",
    "probX = [0.389868, 0.384999, 0.225133]\n",
    "\n",
    "T = [-1, 0, 1]\n",
    "probT = [0.328204, 0.361075, 0.310721]\n",
    "\n",
    "probXT = [0.101629, 0.147197, 0.141042, 0.092462, 0.156602, \n",
    "          0.135936, 0.134113, 0.057277,0.033743,]"
   ]
  },
  {
   "cell_type": "code",
   "execution_count": 3,
   "id": "8b80be32-91fe-4bc9-ae59-37798ab7ed68",
   "metadata": {},
   "outputs": [],
   "source": [
    "# # Visualizando a distribuição teórica\n",
    "# fig, axs = plt.subplots(2,2,figsize=(10,4))\n",
    "\n",
    "# for i, ax in enumerate(axs.flatten()):\n",
    "#     sample_size = 10**(1+i)\n",
    "#     samples = random.choices(X, probX, k=sample_size)\n",
    "#     pd.Series(samples).value_counts(normalize=True).plot(kind=\"bar\",ax=ax)\n",
    "#     ax.set_title(f\"Quantidade de amostras: {sample_size}\")\n",
    "#     ax.set_ylim([0.1,0.6])\n",
    "# plt.tight_layout()"
   ]
  },
  {
   "cell_type": "markdown",
   "id": "f29b384b-93db-4af9-bb61-1ca37da918c7",
   "metadata": {},
   "source": [
    "Quanto mais amostras temos melhor representamos a distribuição original."
   ]
  },
  {
   "cell_type": "code",
   "execution_count": 4,
   "id": "3992f8fe-53fc-4a95-9561-25b51a78d932",
   "metadata": {},
   "outputs": [
    {
     "name": "stdout",
     "output_type": "stream",
     "text": [
      "Entropy from scipy: 1.537112\n",
      "My Entropy: 1.537112\n"
     ]
    }
   ],
   "source": [
    "# Comparando funções de entropia\n",
    "samples = random.choices(X, probX, k=10*6)\n",
    "prob_sample_outcomes = pd.Series(samples).value_counts(normalize=True).tolist()\n",
    "print(f\"Entropy from scipy: {round(stats.entropy(prob_sample_outcomes, base=2),6)}\")\n",
    "print(f\"My Entropy: {round(get_entropy(pd.Series(samples)),6)}\")"
   ]
  },
  {
   "cell_type": "code",
   "execution_count": 5,
   "id": "c02052e1-69f8-48d6-b979-b6de0fd7600a",
   "metadata": {},
   "outputs": [
    {
     "name": "stdout",
     "output_type": "stream",
     "text": [
      "Informação mútua teórica: 0.0678865545\n"
     ]
    }
   ],
   "source": [
    "hX = stats.entropy(probX, base=2)\n",
    "hT = stats.entropy(probT, base=2)\n",
    "hXT = stats.entropy(probXT, base=2)\n",
    "\n",
    "iXT = hX + hT - hXT\n",
    "\n",
    "print(f\"Informação mútua teórica: {round(iXT,10)}\")"
   ]
  },
  {
   "cell_type": "markdown",
   "id": "ffef9201-2430-489d-8437-bd262cd55316",
   "metadata": {},
   "source": [
    "---"
   ]
  },
  {
   "cell_type": "markdown",
   "id": "e30a68ed-8199-4ecf-a3d1-35ffc6e4721e",
   "metadata": {},
   "source": [
    "# **Estimando a informação mútua**"
   ]
  },
  {
   "cell_type": "markdown",
   "id": "3d7fc920-5e87-4bc6-b9e1-9530bef612f3",
   "metadata": {},
   "source": [
    "## **Caso 1** "
   ]
  },
  {
   "cell_type": "code",
   "execution_count": 6,
   "id": "a19a879d-5e88-4b66-8c1f-ba1a22ceb12f",
   "metadata": {},
   "outputs": [
    {
     "name": "stdout",
     "output_type": "stream",
     "text": [
      "Quantidade de amostras: 1000\n"
     ]
    }
   ],
   "source": [
    "df1 = pd.read_csv(\"data/amostras.txt\",sep=\" \",header=None,names=[\"X\", \"T\"])\n",
    "print(f\"Quantidade de amostras: {len(df1)}\")"
   ]
  },
  {
   "cell_type": "code",
   "execution_count": 7,
   "id": "9cc926f9-55c2-4c2f-9a0f-3725a92034c1",
   "metadata": {},
   "outputs": [
    {
     "data": {
      "text/plain": [
       "3.058545801527299"
      ]
     },
     "execution_count": 7,
     "metadata": {},
     "output_type": "execute_result"
    }
   ],
   "source": [
    "df1 = df1.astype(str)\n",
    "get_entropy(df1[\"X\"].add(df1[\"T\"]))"
   ]
  },
  {
   "cell_type": "code",
   "execution_count": 8,
   "id": "99b834eb-fa6b-457a-9b00-08627b0e60f6",
   "metadata": {},
   "outputs": [
    {
     "name": "stdout",
     "output_type": "stream",
     "text": [
      "Informação mútua teórica: 0.0678865545\n",
      "Informação mútua estimada: 0.067807611\n"
     ]
    }
   ],
   "source": [
    "hx = get_entropy(df1[\"X\"])\n",
    "ht = get_entropy(df1[\"T\"])\n",
    "hxt = get_entropy(df1[\"X\"].add(df1[\"T\"]))\n",
    "iXT_estimado = hx + ht - hxt\n",
    "\n",
    "print(f\"Informação mútua teórica: {round(iXT,10)}\")\n",
    "print(f\"Informação mútua estimada: {round(iXT_estimado,10)}\")"
   ]
  }
 ],
 "metadata": {
  "kernelspec": {
   "display_name": "venv_playground",
   "language": "python",
   "name": "venv_playground"
  },
  "language_info": {
   "codemirror_mode": {
    "name": "ipython",
    "version": 3
   },
   "file_extension": ".py",
   "mimetype": "text/x-python",
   "name": "python",
   "nbconvert_exporter": "python",
   "pygments_lexer": "ipython3",
   "version": "3.9.6"
  }
 },
 "nbformat": 4,
 "nbformat_minor": 5
}
