{
 "cells": [
  {
   "cell_type": "code",
   "execution_count": 1,
   "id": "5f0bd0b4-a33b-4039-bd0f-59756b67bfe5",
   "metadata": {},
   "outputs": [],
   "source": [
    "import pandas as pd\n",
    "from stats import get_entropy, entropy_metric"
   ]
  },
  {
   "cell_type": "markdown",
   "id": "4317a288-dcfa-4e7e-b14d-f4d2d6fc29e2",
   "metadata": {},
   "source": [
    "## **Definições**\n",
    "\n",
    "**Entropia:**\n",
    "\n",
    "$$\n",
    "H(X) = - \\sum_{x \\in X} p(x) \\log p(x)\n",
    "$$\n",
    "\n",
    "**Informação mútua:**\n",
    "\n",
    "$$I(X, T) = H(X) + H(T) - H(X,T)$$"
   ]
  },
  {
   "cell_type": "markdown",
   "id": "57badafb-2ea4-48b7-93ea-9b7c17130d84",
   "metadata": {},
   "source": [
    "# **Valores Teóricos**"
   ]
  },
  {
   "cell_type": "code",
   "execution_count": 2,
   "id": "30be5ede-4e9f-4c85-b852-12b7e6da3738",
   "metadata": {},
   "outputs": [],
   "source": [
    "path_case_1 = \"data/valor_teorico.txt\"\n",
    "path_case_2 = \"data/valor_teorico_2T.txt\"\n",
    "\n",
    "\n",
    "df1_true = pd.read_csv(path_case_1, sep=\" \", header=None)\n",
    "df2_true = pd.read_csv(path_case_2, sep=\" \", header=None)"
   ]
  },
  {
   "cell_type": "code",
   "execution_count": 3,
   "id": "9c345c69-a6a3-4391-bb86-3f44ced6d9d9",
   "metadata": {},
   "outputs": [],
   "source": [
    "def parse_proba_true(df, index, col):\n",
    "    fst, end = index\n",
    "    return entropy_metric(df.filter(range(fst,end), axis = \"index\")\n",
    "                            .filter([col])\n",
    "                            .astype(float)\n",
    "                          ).values[0]"
   ]
  },
  {
   "cell_type": "code",
   "execution_count": 4,
   "id": "e290c868-a02c-48c3-91b5-babbe96a8388",
   "metadata": {},
   "outputs": [],
   "source": [
    "# Caso 1 \n",
    "marginal1_proba_x = parse_proba_true(df1_true, index=(11,14),col=1)\n",
    "marginal1_proba_t = parse_proba_true(df1_true, index=(15,18),col=1)\n",
    "joint1_proba = parse_proba_true(df1_true, index=(1,10),col=2)\n",
    "                                    \n",
    "i1_true = marginal1_proba_x+marginal1_proba_t-joint1_proba\n",
    "# Caso 2 \n",
    "joint2_proba = parse_proba_true(df2_true, index=(1,28),col=3)\n",
    "marginal2_proba_x = parse_proba_true(df2_true, index=(29,32),col=1)\n",
    "marginal2_proba_t1 = parse_proba_true(df2_true, index=(33,36),col=1)\n",
    "marginal2_proba_t2 = parse_proba_true(df2_true, index=(37,40),col=1)\n",
    "i2_true = marginal2_proba_x + marginal2_proba_t1 + marginal2_proba_t2 - joint2_proba"
   ]
  },
  {
   "cell_type": "markdown",
   "id": "49a3622e-6e2b-48b3-a611-52d010386b22",
   "metadata": {},
   "source": [
    "# **Valores Estimados Histograma** "
   ]
  },
  {
   "cell_type": "code",
   "execution_count": 5,
   "id": "657b7fc1-4966-4453-a256-f7eae5c97fb4",
   "metadata": {},
   "outputs": [
    {
     "name": "stdout",
     "output_type": "stream",
     "text": [
      "Quantidade de amostras em data/amostras.txt: 1000\n",
      "Quantidade de amostras em data/amostras_2T.txt: 10000\n"
     ]
    }
   ],
   "source": [
    "path_case_1 = \"data/amostras.txt\"\n",
    "path_case_2 = \"data/amostras_2T.txt\"\n",
    "\n",
    "\n",
    "df1 = pd.read_csv(path_case_1, sep=\" \", header=None, names=[\"X\", \"T\"])\n",
    "df2 = pd.read_csv(path_case_2, sep=\" \", header=None, names=[\"X\", \"T1\", \"T2\"])\n",
    "\n",
    "print(f\"Quantidade de amostras em {path_case_1}: {len(df1)}\")\n",
    "print(f\"Quantidade de amostras em {path_case_2}: {len(df2)}\")"
   ]
  },
  {
   "cell_type": "markdown",
   "id": "4f7e4ba6-c3e1-431a-967d-1abf1945a6c8",
   "metadata": {},
   "source": [
    "<font color = \"orange\">**Supondo que cada desfecho da variável aleatória é um bin.**</font>"
   ]
  },
  {
   "cell_type": "code",
   "execution_count": 6,
   "id": "e1ee30a0-a7dd-4138-aba0-75900500e3d6",
   "metadata": {
    "tags": []
   },
   "outputs": [
    {
     "name": "stdout",
     "output_type": "stream",
     "text": [
      "I(X,T) real: 0.06788493864012324\n",
      "I(X,T) estimada: 0.06780761097990462\n",
      "\n",
      "I(X,T1,T2) real: 0.3463584014408658\n",
      "I(X,T1,T2) estimada: 0.3461748898695589\n"
     ]
    }
   ],
   "source": [
    "def get_mutual_information(df:pd.DataFrame):\n",
    "    marginal_probabilitys = df.apply(get_entropy)\n",
    "    joint_probability = entropy_metric(df.groupby(df.columns.tolist())\n",
    "                                          .size()\n",
    "                                          .div(len(df)))\n",
    "\n",
    "    return marginal_probabilitys.sum() - joint_probability\n",
    "\n",
    "i1_sample = get_mutual_information(df1)\n",
    "i2_sample = get_mutual_information(df2)\n",
    "\n",
    "print(f\"I(X,T) real: {i1_true}\\nI(X,T) estimada: {i1_sample}\\n\")\n",
    "print(f\"I(X,T1,T2) real: {i2_true}\\nI(X,T1,T2) estimada: {i2_sample}\")"
   ]
  },
  {
   "cell_type": "markdown",
   "id": "fd458d54-3168-48b5-9285-4eae7f0969d0",
   "metadata": {},
   "source": [
    "<font color = \"orange\">**Vou binarizar as colunas antes de calcular a informação mútua**</font>"
   ]
  },
  {
   "cell_type": "code",
   "execution_count": 9,
   "id": "93a9a463-f62e-4325-a7c5-45a33af7943b",
   "metadata": {
    "tags": []
   },
   "outputs": [
    {
     "name": "stdout",
     "output_type": "stream",
     "text": [
      "I(X,T) real: 0.06788494\n",
      "\n",
      "Column X - bin widths: [(-2.003, 1.5)]\n",
      "Column T - bin widths: [(-1.002, 1.0)]\n",
      "\u001b[1mbins:1 - I(X,T) estimada: 0.00000000\n",
      "\u001b[0m\n",
      "Column X - bin widths: [(-2.003, -0.25) (-0.25, 1.5)]\n",
      "Column T - bin widths: [(-1.002, 0.0) (0.0, 1.0)]\n",
      "\u001b[1mbins:2 - I(X,T) estimada: 0.00545163\n",
      "\u001b[0m\n",
      "Column X - bin widths: [(-2.003, -0.833) (-0.833, 0.333) (0.333, 1.5)]\n",
      "Column T - bin widths: [(-1.002, -0.333) (-0.333, 0.333) (0.333, 1.0)]\n",
      "\u001b[1mbins:3 - I(X,T) estimada: 0.01044592\n",
      "\u001b[0m\n",
      "Column X - bin widths: [(-2.003, -1.125) (-1.125, -0.25) (-0.25, 0.625) (0.625, 1.5)]\n",
      "Column T - bin widths: [(-1.002, -0.5) (-0.5, 0.0) (0.0, 0.5) (0.5, 1.0)]\n",
      "\u001b[1mbins:4 - I(X,T) estimada: 0.06780761\n",
      "\u001b[0m\n",
      "Column X - bin widths: [(-2.003, -1.3) (-1.3, -0.6) (-0.6, 0.1) (0.1, 0.8) (0.8, 1.5)]\n",
      "Column T - bin widths: [(-1.002, -0.6) (-0.6, -0.2) (-0.2, 0.2) (0.2, 0.6) (0.6, 1.0)]\n",
      "\u001b[1mbins:5 - I(X,T) estimada: 0.06780761\n",
      "\u001b[0m\n"
     ]
    }
   ],
   "source": [
    "def create_bins(x, n_bin):\n",
    "    aux = pd.cut(x,n_bin)\n",
    "    print(f\"Column {x.name} - bin widths: {aux.cat.categories.values.to_tuples()}\")\n",
    "    return aux\n",
    "\n",
    "print(f\"I(X,T) real: {i1_true:.8f}\\n\")\n",
    "for bins in range(1, 6):\n",
    "    i1 = (df1.apply(create_bins, args=[bins])\n",
    "             .pipe(get_mutual_information) \n",
    "         )\n",
    "    print(f\"\\033[1mbins:{bins} - I(X,T) estimada: {i1:.8f}\\n\\033[0m\")      "
   ]
  },
  {
   "cell_type": "code",
   "execution_count": 10,
   "id": "93c09c97-065d-4d84-ba95-7b07a3698fa9",
   "metadata": {},
   "outputs": [
    {
     "name": "stdout",
     "output_type": "stream",
     "text": [
      "I(X,T1, T2) real: 0.34635840\n",
      "\n",
      "Column X - bin widths: [(-2.003, 1.5)]\n",
      "Column T1 - bin widths: [(-1.002, 1.0)]\n",
      "Column T2 - bin widths: [(-1.002, 1.0)]\n",
      "\u001b[1mbins:1 - I(X,T1,T2) estimada: 0.00000000\n",
      "\u001b[0m\n",
      "Column X - bin widths: [(-2.003, -0.25) (-0.25, 1.5)]\n",
      "Column T1 - bin widths: [(-1.002, 0.0) (0.0, 1.0)]\n",
      "Column T2 - bin widths: [(-1.002, 0.0) (0.0, 1.0)]\n",
      "\u001b[1mbins:2 - I(X,T1,T2) estimada: 0.04498194\n",
      "\u001b[0m\n",
      "Column X - bin widths: [(-2.003, -0.833) (-0.833, 0.333) (0.333, 1.5)]\n",
      "Column T1 - bin widths: [(-1.002, -0.333) (-0.333, 0.333) (0.333, 1.0)]\n",
      "Column T2 - bin widths: [(-1.002, -0.333) (-0.333, 0.333) (0.333, 1.0)]\n",
      "\u001b[1mbins:3 - I(X,T1,T2) estimada: 0.21634533\n",
      "\u001b[0m\n",
      "Column X - bin widths: [(-2.003, -1.125) (-1.125, -0.25) (-0.25, 0.625) (0.625, 1.5)]\n",
      "Column T1 - bin widths: [(-1.002, -0.5) (-0.5, 0.0) (0.0, 0.5) (0.5, 1.0)]\n",
      "Column T2 - bin widths: [(-1.002, -0.5) (-0.5, 0.0) (0.0, 0.5) (0.5, 1.0)]\n",
      "\u001b[1mbins:4 - I(X,T1,T2) estimada: 0.34617489\n",
      "\u001b[0m\n",
      "Column X - bin widths: [(-2.003, -1.3) (-1.3, -0.6) (-0.6, 0.1) (0.1, 0.8) (0.8, 1.5)]\n",
      "Column T1 - bin widths: [(-1.002, -0.6) (-0.6, -0.2) (-0.2, 0.2) (0.2, 0.6) (0.6, 1.0)]\n",
      "Column T2 - bin widths: [(-1.002, -0.6) (-0.6, -0.2) (-0.2, 0.2) (0.2, 0.6) (0.6, 1.0)]\n",
      "\u001b[1mbins:5 - I(X,T1,T2) estimada: 0.34617489\n",
      "\u001b[0m\n"
     ]
    }
   ],
   "source": [
    "print(f\"I(X,T1, T2) real: {i2_true:.8f}\\n\")\n",
    "for bins in range(1, 6):\n",
    "    i2 = (df2.apply(create_bins, args=[bins])\n",
    "             .pipe(get_mutual_information) \n",
    "         )\n",
    "    print(f\"\\033[1mbins:{bins} - I(X,T1,T2) estimada: {i2:.8f}\\n\\033[0m\")    "
   ]
  }
 ],
 "metadata": {
  "kernelspec": {
   "display_name": "venv_playground",
   "language": "python",
   "name": "venv_playground"
  },
  "language_info": {
   "codemirror_mode": {
    "name": "ipython",
    "version": 3
   },
   "file_extension": ".py",
   "mimetype": "text/x-python",
   "name": "python",
   "nbconvert_exporter": "python",
   "pygments_lexer": "ipython3",
   "version": "3.9.4"
  }
 },
 "nbformat": 4,
 "nbformat_minor": 5
}
