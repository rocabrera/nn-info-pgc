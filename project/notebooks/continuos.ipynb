{
 "cells": [
  {
   "cell_type": "code",
   "execution_count": 1,
   "id": "014598ad-d04e-4f04-9024-956c11400e68",
   "metadata": {},
   "outputs": [
    {
     "ename": "ModuleNotFoundError",
     "evalue": "No module named 'continuos_stats'",
     "output_type": "error",
     "traceback": [
      "\u001b[0;31m---------------------------------------------------------------------------\u001b[0m",
      "\u001b[0;31mModuleNotFoundError\u001b[0m                       Traceback (most recent call last)",
      "\u001b[0;32m/tmp/ipykernel_5771/2402232749.py\u001b[0m in \u001b[0;36m<module>\u001b[0;34m\u001b[0m\n\u001b[1;32m      6\u001b[0m \u001b[0mplt\u001b[0m\u001b[0;34m.\u001b[0m\u001b[0mstyle\u001b[0m\u001b[0;34m.\u001b[0m\u001b[0muse\u001b[0m\u001b[0;34m(\u001b[0m\u001b[0;34m\"ggplot\"\u001b[0m\u001b[0;34m)\u001b[0m\u001b[0;34m\u001b[0m\u001b[0;34m\u001b[0m\u001b[0m\n\u001b[1;32m      7\u001b[0m \u001b[0;34m\u001b[0m\u001b[0m\n\u001b[0;32m----> 8\u001b[0;31m from continuos_stats import (continuos_marginal_entropy,\n\u001b[0m\u001b[1;32m      9\u001b[0m                              continuos_join_gaussian_entropy)\n\u001b[1;32m     10\u001b[0m \u001b[0;34m\u001b[0m\u001b[0m\n",
      "\u001b[0;31mModuleNotFoundError\u001b[0m: No module named 'continuos_stats'"
     ]
    }
   ],
   "source": [
    "import os\n",
    "import pandas as pd\n",
    "import numpy as np\n",
    "\n",
    "import matplotlib.pyplot as plt\n",
    "plt.style.use(\"ggplot\")\n",
    "\n",
    "from continuos_stats import (continuos_marginal_entropy,\n",
    "                             continuos_join_gaussian_entropy)\n",
    "\n",
    "from general_stats import (univariate_gaussian,\n",
    "                           multivariate_gaussian)"
   ]
  },
  {
   "cell_type": "code",
   "execution_count": null,
   "id": "f15953ef-cd3e-4699-a36f-a2054897f9c7",
   "metadata": {
    "tags": []
   },
   "outputs": [],
   "source": [
    "# Downloading data\n",
    "path_data = os.path.join(\"data\", \"amostras_continuo.txt\")\n",
    "df = pd.read_csv(path_data, sep=\" \", header=None, names=[\"X1\", \"X2\", \"X3\", \"T\"])\n",
    "print(df.shape)\n",
    "df.head()"
   ]
  },
  {
   "cell_type": "code",
   "execution_count": null,
   "id": "4281c25a-a76f-446d-8580-4f4b0d150ec0",
   "metadata": {},
   "outputs": [],
   "source": [
    "500 numero de amostras em um batch\n",
    "\n",
    "4 numero de features ...."
   ]
  },
  {
   "cell_type": "code",
   "execution_count": null,
   "id": "977b8695-601c-443f-8013-1f38c5f0538d",
   "metadata": {},
   "outputs": [],
   "source": [
    "(1500, (16+1))"
   ]
  },
  {
   "cell_type": "code",
   "execution_count": null,
   "id": "eb918e2c-946f-4c5c-80d3-d6fc7dda6e9a",
   "metadata": {},
   "outputs": [],
   "source": [
    "100 10 2\n",
    "X   T1  T2\n",
    "\n",
    "I(X1, ... X100, H1, H2, H3 ... H10) ; I(X,T2)\n",
    "\n",
    "I(Y,T1) ; I(Y,T2)\n",
    "\n",
    "T1 = [H1, H2, H3 ... H10]"
   ]
  },
  {
   "cell_type": "markdown",
   "id": "31cba13e-330f-4a50-bec3-3817ef9a0564",
   "metadata": {},
   "source": [
    "**Entropia - Parzen window**\n",
    "\n",
    "$$\n",
    "\\hat{J}_{HS} = - \\frac{1}{N_x}\\sum_{i=1}^{N_x}\\log \\left(\\frac{1}{N_x}\\sum_{j=1}^{N_x}G_{\\sigma^2}(x_i - x_j)\\right)\n",
    "$$"
   ]
  },
  {
   "cell_type": "markdown",
   "id": "92c9814b-303a-4a69-a153-d7fbb1423081",
   "metadata": {},
   "source": [
    "**Univariate Gaussian:**\n",
    "$$\n",
    "G_{\\sigma^2}(x_i - x_j) = \\frac{1}{\\sigma\\sqrt{2\\pi}} e^{\\frac{-(x_i - x_j)}{2\\sigma^2}}\n",
    "$$"
   ]
  },
  {
   "cell_type": "code",
   "execution_count": null,
   "id": "6cdc455b-14c4-4522-8557-d2842efe43b6",
   "metadata": {},
   "outputs": [],
   "source": [
    "df.apply(continuos_marginal_entropy, args = [univariate_gaussian, 1])"
   ]
  },
  {
   "cell_type": "markdown",
   "id": "57141d7d-61c1-4537-83be-093f6506b7cd",
   "metadata": {},
   "source": [
    "# Gaussiana multivariada\n",
    "\n",
    "$$\n",
    "G_{\\sum}(x_j-x_i) = \\frac{e^{\\frac{-1}{2}(x_j - x_i)^T\\sum^{-1}(x_j - x_i)}}{\\sqrt{(2\\pi)^{M+1}det(\\sum)}} \n",
    "$$\n",
    "onde $M$ é o número de ***RV*** menos um e $\\sum$:\n",
    "\n",
    "$$\n",
    "\\sum = \\sigma^{2}I_{M+1}\n",
    "$$\n",
    "\n",
    "Podemos utilizar essa definição para calcular as entropias marginais e entropia conjunta."
   ]
  },
  {
   "cell_type": "code",
   "execution_count": null,
   "id": "82962e93-b4d0-464b-b70c-9f1e38ae2a54",
   "metadata": {},
   "outputs": [],
   "source": [
    "N_x = len(df)\n",
    "sigma = 1\n",
    "\n",
    "columns = [\"X1\", \"X2\", \"X3\"]\n",
    "H = np.power(sigma, 2) * np.eye(len(columns))\n",
    "Hinv = np.linalg.pinv(H)\n",
    "Hdet = np.linalg.det(H)\n",
    "lista = []\n",
    "for i in df.filter(columns).values:\n",
    "    fst_sum = sum(multivariate_gaussian(i, j, Hinv, Hdet) for j in df.filter(columns).values)\n",
    "    lista.append(np.log2(fst_sum/N_x))\n",
    "    \n",
    "(-1/N_x) * sum(lista)"
   ]
  },
  {
   "cell_type": "code",
   "execution_count": null,
   "id": "51c4d222-fd61-4689-adb4-644c6502ef7e",
   "metadata": {},
   "outputs": [],
   "source": [
    "continuos_join_gaussian_entropy(df.filter(columns),sigma=1)"
   ]
  },
  {
   "cell_type": "code",
   "execution_count": null,
   "id": "7b05dd1c-bee7-49b0-a6b6-ec72f4bacee3",
   "metadata": {},
   "outputs": [],
   "source": [
    "def get_continuos_mutual_info(df, sigma=3):\n",
    "    \n",
    "    marginal_entropy = df.apply(continuos_marginal_entropy, \n",
    "                                args = [univariate_gaussian, sigma])\n",
    "    \n",
    "    join_entropy = continuos_join_gaussian_entropy(df, sigma=sigma)\n",
    "        \n",
    "    return sum(marginal_entropy) - join_entropy\n",
    "\n",
    "get_continuos_mutual_info(df.filter([\"X1\", \"X2\", \"X3\"]))"
   ]
  },
  {
   "cell_type": "code",
   "execution_count": null,
   "id": "2d32eef1-bf5e-4214-bd29-160e8d2251a4",
   "metadata": {},
   "outputs": [],
   "source": []
  }
 ],
 "metadata": {
  "kernelspec": {
   "display_name": "venv_playground",
   "language": "python",
   "name": "venv_playground"
  },
  "language_info": {
   "codemirror_mode": {
    "name": "ipython",
    "version": 3
   },
   "file_extension": ".py",
   "mimetype": "text/x-python",
   "name": "python",
   "nbconvert_exporter": "python",
   "pygments_lexer": "ipython3",
   "version": "3.9.9"
  }
 },
 "nbformat": 4,
 "nbformat_minor": 5
}
