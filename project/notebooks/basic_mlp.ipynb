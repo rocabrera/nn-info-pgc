{
 "cells": [
  {
   "cell_type": "code",
   "execution_count": 21,
   "id": "8a723e4e-1638-4695-8ad1-901fb6451dfb",
   "metadata": {},
   "outputs": [],
   "source": [
    "import numpy as np\n",
    "import pandas as pd\n",
    "from torch.utils.data import Dataset, DataLoader\n",
    "\n",
    "import torch\n",
    "import torch.nn as nn\n",
    "from sklearn.metrics import accuracy_score\n",
    "from sklearn.datasets import load_breast_cancer\n",
    "# import matplotlib.pyplot as plt"
   ]
  },
  {
   "cell_type": "code",
   "execution_count": 2,
   "id": "d3f4a367-26a1-47de-a367-66dbbceae78e",
   "metadata": {},
   "outputs": [],
   "source": [
    "data = load_breast_cancer()"
   ]
  },
  {
   "cell_type": "code",
   "execution_count": 3,
   "id": "65f3bde4-c278-48bc-bd77-f4f8dfe6f61e",
   "metadata": {},
   "outputs": [],
   "source": [
    "X = data.data\n",
    "y = data.target"
   ]
  },
  {
   "cell_type": "code",
   "execution_count": 69,
   "id": "bb847ca2-65d1-488c-9233-1c80dc9ad317",
   "metadata": {},
   "outputs": [],
   "source": [
    "class CancerDataset(Dataset):\n",
    "    \n",
    "    def __init__(self, X:np.array, y:np.array, transform=None):\n",
    "        \"\"\"\n",
    "        Args:\n",
    "            X: Features.\n",
    "            y: target.\n",
    "            transform (callable, optional): Optional transform to be applied on a sample.\n",
    "        \"\"\"\n",
    "        self.X = X.astype('float32')\n",
    "        self.y = y.astype('float32')\n",
    "        self.y = self.y.reshape((len(self.y), 1))\n",
    "        self.n_samples = self.X.shape[0]\n",
    "        self.transform = transform\n",
    "\n",
    "    def __len__(self):\n",
    "        return self.n_samples\n",
    "\n",
    "    def __getitem__(self, idx):\n",
    "        \n",
    "        sample = self.X[idx], self.y[idx]\n",
    "\n",
    "        if self.transform:\n",
    "            sample = self.transform(sample)\n",
    "\n",
    "        return sample\n",
    "    \n"
   ]
  },
  {
   "cell_type": "code",
   "execution_count": 70,
   "id": "b99083ae-a9a5-49ab-a26b-9512c0331d41",
   "metadata": {},
   "outputs": [],
   "source": [
    "input_size = 30\n",
    "hl_1 = 100\n",
    "num_classes = 1\n",
    "\n",
    "batch_size = 200\n",
    "\n",
    "\n",
    "# This will apply the softmax\n",
    "train_dataset = CancerDataset(X,y)\n",
    "train_loader = torch.utils.data.DataLoader(dataset=train_dataset, shuffle=True, batch_size=batch_size)"
   ]
  },
  {
   "cell_type": "code",
   "execution_count": 71,
   "id": "25ad7068-4d2f-4b3d-b63c-b3782395416a",
   "metadata": {},
   "outputs": [
    {
     "data": {
      "text/plain": [
       "(569, 30)"
      ]
     },
     "execution_count": 71,
     "metadata": {},
     "output_type": "execute_result"
    }
   ],
   "source": [
    "X.shape"
   ]
  },
  {
   "cell_type": "code",
   "execution_count": 72,
   "id": "1138b27c-7d5b-428c-b42d-ec85db4ba138",
   "metadata": {},
   "outputs": [],
   "source": [
    "# device config\n",
    "device = torch.device(\"cuda\" if torch.cuda.is_available() else \"cpu\")\n",
    "\n",
    "model = MLP(input_size, hl_1, num_classes).to(device)"
   ]
  },
  {
   "cell_type": "code",
   "execution_count": 73,
   "id": "3089211d-c01b-4d80-990b-3698ef90d3f0",
   "metadata": {},
   "outputs": [
    {
     "data": {
      "text/plain": [
       "1"
      ]
     },
     "execution_count": 73,
     "metadata": {},
     "output_type": "execute_result"
    }
   ],
   "source": [
    "1"
   ]
  },
  {
   "cell_type": "code",
   "execution_count": 74,
   "id": "dd18ec57-49d9-4a8e-80e2-16622163c68b",
   "metadata": {
    "tags": []
   },
   "outputs": [
    {
     "name": "stdout",
     "output_type": "stream",
     "text": [
      "epoch 1 / 10, step 1/3, loss = 2.3851\n",
      "epoch 1 / 10, step 2/3, loss = 62.0000\n",
      "epoch 1 / 10, step 3/3, loss = 65.0888\n",
      "epoch 2 / 10, step 1/3, loss = 67.5000\n",
      "epoch 2 / 10, step 2/3, loss = 69.0000\n",
      "epoch 2 / 10, step 3/3, loss = 49.7041\n",
      "epoch 3 / 10, step 1/3, loss = 65.5000\n",
      "epoch 3 / 10, step 2/3, loss = 62.0000\n",
      "epoch 3 / 10, step 3/3, loss = 60.3550\n",
      "epoch 4 / 10, step 1/3, loss = 61.0000\n",
      "epoch 4 / 10, step 2/3, loss = 64.0000\n",
      "epoch 4 / 10, step 3/3, loss = 63.3136\n",
      "epoch 5 / 10, step 1/3, loss = 61.0000\n",
      "epoch 5 / 10, step 2/3, loss = 60.5000\n",
      "epoch 5 / 10, step 3/3, loss = 67.4556\n",
      "epoch 6 / 10, step 1/3, loss = 64.0000\n",
      "epoch 6 / 10, step 2/3, loss = 57.5000\n",
      "epoch 6 / 10, step 3/3, loss = 67.4556\n",
      "epoch 7 / 10, step 1/3, loss = 63.5000\n",
      "epoch 7 / 10, step 2/3, loss = 62.5000\n",
      "epoch 7 / 10, step 3/3, loss = 62.1302\n",
      "epoch 8 / 10, step 1/3, loss = 63.0000\n",
      "epoch 8 / 10, step 2/3, loss = 65.5000\n",
      "epoch 8 / 10, step 3/3, loss = 59.1716\n",
      "epoch 9 / 10, step 1/3, loss = 63.0000\n",
      "epoch 9 / 10, step 2/3, loss = 61.5000\n",
      "epoch 9 / 10, step 3/3, loss = 63.9053\n",
      "epoch 10 / 10, step 1/3, loss = 60.0000\n",
      "epoch 10 / 10, step 2/3, loss = 68.0000\n",
      "epoch 10 / 10, step 3/3, loss = 59.7633\n"
     ]
    }
   ],
   "source": [
    "train_model(train_loader, model, 10, device)"
   ]
  },
  {
   "cell_type": "code",
   "execution_count": 75,
   "id": "46c4f43c-67bd-453e-b4a5-b5a626e47ade",
   "metadata": {},
   "outputs": [
    {
     "data": {
      "text/plain": [
       "0.37258347978910367"
      ]
     },
     "execution_count": 75,
     "metadata": {},
     "output_type": "execute_result"
    }
   ],
   "source": [
    "# evaluate the model\n",
    "def evaluate_model(test_dl, model):\n",
    "    predictions, actuals = list(), list()\n",
    "    for i, (inputs, targets) in enumerate(test_dl):\n",
    "        # evaluate the model on the test set\n",
    "        inputs = inputs.to(device)\n",
    "        targets = targets.to(device)\n",
    "        yhat = model(inputs)\n",
    "        # retrieve numpy array\n",
    "        yhat = yhat.cpu().detach().numpy()\n",
    "        actual = targets.cpu().numpy()\n",
    "        actual = actual.reshape((len(actual), 1))\n",
    "        # round to class values\n",
    "        yhat = yhat.round()\n",
    "        # store\n",
    "        predictions.append(yhat)\n",
    "        actuals.append(actual)\n",
    "    predictions, actuals = np.vstack(predictions), np.vstack(actuals)\n",
    "    # calculate accuracy\n",
    "    acc = accuracy_score(actuals, predictions)\n",
    "    return acc\n",
    "\n",
    "\n",
    "\n",
    "evaluate_model(train_loader, model)"
   ]
  },
  {
   "cell_type": "code",
   "execution_count": null,
   "id": "2dac0515-e820-46b4-9341-d94c79bf00c7",
   "metadata": {},
   "outputs": [],
   "source": []
  }
 ],
 "metadata": {
  "kernelspec": {
   "display_name": "venv_playground",
   "language": "python",
   "name": "venv_playground"
  },
  "language_info": {
   "codemirror_mode": {
    "name": "ipython",
    "version": 3
   },
   "file_extension": ".py",
   "mimetype": "text/x-python",
   "name": "python",
   "nbconvert_exporter": "python",
   "pygments_lexer": "ipython3",
   "version": "3.9.4"
  }
 },
 "nbformat": 4,
 "nbformat_minor": 5
}
