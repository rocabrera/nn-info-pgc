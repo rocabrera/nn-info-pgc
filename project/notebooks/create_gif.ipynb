{
 "cells": [
  {
   "cell_type": "code",
   "execution_count": 6,
   "id": "ff044bb0",
   "metadata": {},
   "outputs": [],
   "source": [
    "import os\n",
    "import sys \n",
    "root_path = os.path.dirname(os.getcwd())\n",
    "sys.path.insert(0, root_path)\n",
    "from src.misc.make_figures import create_gif"
   ]
  },
  {
   "cell_type": "code",
   "execution_count": 7,
   "id": "18004e33",
   "metadata": {},
   "outputs": [
    {
     "name": "stderr",
     "output_type": "stream",
     "text": [
      "Gif: 100%|██████████| 10/10 [00:10<00:00,  1.05s/it]\n"
     ]
    }
   ],
   "source": [
    "folder_images = \"/home/rocabrera/Desktop/nn-info-pgc/project/images/continuos/make_circles_3/kernelsize5_epochs10_arch5_lr0.15_samplepct0.1\"\n",
    "gif_root_path = os.path.join(root_path, \"gifs\")\n",
    "filename = os.path.basename(folder_images)\n",
    "create_gif(folder_images, gif_root_path, filename)"
   ]
  }
 ],
 "metadata": {
  "interpreter": {
   "hash": "0166448f751676955cf4a1fe6c574ee94d5d4fccd125fada50440631b5feaa53"
  },
  "kernelspec": {
   "display_name": "Python 3 (ipykernel)",
   "language": "python",
   "name": "python3"
  },
  "language_info": {
   "codemirror_mode": {
    "name": "ipython",
    "version": 3
   },
   "file_extension": ".py",
   "mimetype": "text/x-python",
   "name": "python",
   "nbconvert_exporter": "python",
   "pygments_lexer": "ipython3",
   "version": "3.7.11"
  }
 },
 "nbformat": 4,
 "nbformat_minor": 5
}
