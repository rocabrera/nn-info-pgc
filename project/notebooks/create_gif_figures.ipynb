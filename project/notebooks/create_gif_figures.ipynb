{
 "cells": [
  {
   "cell_type": "code",
   "execution_count": 2,
   "id": "24c2cf02-0bcc-438d-808a-2be5e033e822",
   "metadata": {},
   "outputs": [],
   "source": [
    "import os\n",
    "from os import path\n",
    "from pathlib import Path\n",
    "import pandas as pd\n",
    "import matplotlib.pyplot as plt\n",
    "import seaborn as sns\n",
    "from sklearn.preprocessing import StandardScaler"
   ]
  },
  {
   "cell_type": "code",
   "execution_count": 9,
   "id": "093717ee",
   "metadata": {},
   "outputs": [],
   "source": [
    "filename= \"resultados_100_[5, 3]_0.1_10000.csv\"\n",
    "root_path = path.dirname(os.getcwd())\n",
    "filepath = path.join(root_path, \"results\", filename)"
   ]
  },
  {
   "cell_type": "code",
   "execution_count": 10,
   "id": "58805e43",
   "metadata": {},
   "outputs": [],
   "source": [
    "df = pd.read_csv(filepath)\n",
    "sns.scatterplot(data=df.query(f\"epoch=={0}\"), x=\"T\", y=\"Y\", hue=\"layer\")"
   ]
  },
  {
   "cell_type": "code",
   "execution_count": 13,
   "id": "377f5831",
   "metadata": {},
   "outputs": [],
   "source": [
    "epochs = filename.split(\"_\")[1]\n",
    "filename_no_ext = path.splitext(filename)[0]\n",
    "\n",
    "save_path = path.join(root_path, \"images\", filename_no_ext)\n",
    "\n",
    "path_creater = Path(save_path)\n",
    "path_creater.mkdir(parents=True, exist_ok=True)"
   ]
  },
  {
   "cell_type": "code",
   "execution_count": 15,
   "id": "55fb6b94",
   "metadata": {
    "collapsed": true,
    "jupyter": {
     "outputs_hidden": true
    },
    "tags": []
   },
   "outputs": [],
   "source": [
    "for epoch in range(int(epochs)):\n",
    "    _ = plt.figure()\n",
    "    sns.scatterplot(data=df.query(f\"epoch=={epoch}\"), x=\"T\", y=\"Y\", hue=\"layer\")\n",
    "    plt.title(f\"Época: {epoch}\")\n",
    "    plt.tight_layout()\n",
    "    plt.savefig(path.join(save_path, f\"{epoch}.png\"), facecolor='w')\n",
    "    plt.close()"
   ]
  }
 ],
 "metadata": {
  "interpreter": {
   "hash": "0166448f751676955cf4a1fe6c574ee94d5d4fccd125fada50440631b5feaa53"
  },
  "kernelspec": {
   "display_name": "Python 3.9.9 64-bit ('venv_playground': pyenv)",
   "language": "python",
   "name": "python3"
  },
  "language_info": {
   "codemirror_mode": {
    "name": "ipython",
    "version": 3
   },
   "file_extension": ".py",
   "mimetype": "text/x-python",
   "name": "python",
   "nbconvert_exporter": "python",
   "pygments_lexer": "ipython3",
   "version": "3.9.9"
  }
 },
 "nbformat": 4,
 "nbformat_minor": 5
}
