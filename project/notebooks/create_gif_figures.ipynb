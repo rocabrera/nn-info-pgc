{
 "cells": [
  {
   "cell_type": "code",
   "execution_count": null,
   "id": "24c2cf02-0bcc-438d-808a-2be5e033e822",
   "metadata": {},
   "outputs": [],
   "source": [
    "import re\n",
    "import os\n",
    "from os import path\n",
    "from pathlib import Path\n",
    "import pandas as pd\n",
    "import matplotlib.pyplot as plt\n",
    "plt.style.use('ieee')\n",
    "import seaborn as sns\n",
    "from sklearn.preprocessing import StandardScaler"
   ]
  },
  {
   "cell_type": "code",
   "execution_count": null,
   "id": "093717ee",
   "metadata": {},
   "outputs": [],
   "source": [
    "folder_type = \"discrete\"\n",
    "dataset = \"make_circles_3\"\n",
    "filename= \"bins10_epochs1000_arch5_lr0.1.csv\"\n",
    "root_path = path.dirname(os.getcwd())\n",
    "filepath = path.join(root_path, \"results\", folder_type, dataset, filename)"
   ]
  },
  {
   "cell_type": "code",
   "execution_count": null,
   "id": "58805e43",
   "metadata": {},
   "outputs": [],
   "source": [
    "df = pd.read_csv(filepath)\n",
    "df = df.rename(columns ={\"Y\":\"I(Y,T)\", \"T\":\"I(X,T)\"})\n",
    "xmax, xmin = df[\"I(X,T)\"].max(), df[\"I(X,T)\"].min() \n",
    "ymax, ymin = df[\"I(Y,T)\"].max(), df[\"I(Y,T)\"].min() \n",
    "epoch = 0\n",
    "\n",
    "fig, ax = plt.subplots(figsize = (6,4))\n",
    "\n",
    "g = sns.scatterplot(data=df.query(f\"epoch=={epoch}\"), \n",
    "                    x='I(X,T)', \n",
    "                    y=\"I(Y,T)\", \n",
    "                    hue=\"layer\",\n",
    "                    alpha=0.8,\n",
    "                    edgecolor=\"black\",\n",
    "                    palette=\"muted\",\n",
    "                    linewidth=1.2,\n",
    "                    ax=ax)\n",
    "\n",
    "\n",
    "def set_scatterplot_legend(ax, epoch):\n",
    "\n",
    "    g.set_xlabel(\"I(X,T)\", fontsize=12)\n",
    "    g.set_ylabel(\"I(Y,T)\", fontsize=12)\n",
    "    g.set_title(f\"Época: {epoch}\", fontsize=14)\n",
    "\n",
    "    leg = ax.legend(loc='lower right', \n",
    "                    title='Layers',\n",
    "                    fontsize=12)\n",
    "    # make opaque legend\n",
    "    for lh in leg.legendHandles:\n",
    "        fc_arr = lh.get_fc().copy()\n",
    "        fc_arr[:, -1] = 1\n",
    "        lh.set_fc(fc_arr)\n",
    "        lh.set_alpha(1)\n",
    "\n",
    "    return leg\n",
    "\n",
    "leg = set_scatterplot_legend(g,epoch)\n",
    "\n",
    "plt.xlim([xmin, xmax])\n",
    "plt.ylim([ymin, ymax])\n",
    "plt.tight_layout()\n",
    "plt.show()"
   ]
  },
  {
   "cell_type": "code",
   "execution_count": null,
   "id": "377f5831",
   "metadata": {},
   "outputs": [],
   "source": [
    "match = re.search(\"epochs(\\d+).*\", filename)\n",
    "\n",
    "epochs = int(match.group(1))\n",
    "\n",
    "filename_no_ext = path.splitext(filename)[0]\n",
    "\n",
    "save_path = path.join(root_path, \"images\", folder_type, dataset, filename_no_ext)\n",
    "\n",
    "path_creater = Path(save_path)\n",
    "path_creater.mkdir(parents=True, exist_ok=True)"
   ]
  },
  {
   "cell_type": "code",
   "execution_count": null,
   "id": "55fb6b94",
   "metadata": {
    "collapsed": true,
    "jupyter": {
     "outputs_hidden": true
    },
    "tags": []
   },
   "outputs": [],
   "source": [
    "xmax, xmin = df[\"T\"].max(), df[\"T\"].min() \n",
    "ymax, ymin = df[\"Y\"].max(), df[\"Y\"].min() \n",
    "\n",
    "for epoch in range(int(epochs)):\n",
    "    _ = plt.figure()\n",
    "    sns.scatterplot(data=df.query(f\"epoch=={epoch}\"), x=\"T\", y=\"Y\", hue=\"layer\")\n",
    "    plt.title(f\"Época: {epoch}\")\n",
    "    plt.legend(bbox_to_anchor=[1.2, 0.5])\n",
    "\n",
    "    plt.xlim([xmin, xmax])\n",
    "    plt.ylim([ymin, ymax])\n",
    "    plt.tight_layout()\n",
    "    plt.savefig(path.join(save_path, f\"{epoch}.png\"), facecolor='w')\n",
    "    plt.close()"
   ]
  },
  {
   "cell_type": "code",
   "execution_count": null,
   "id": "73a4c9df",
   "metadata": {},
   "outputs": [],
   "source": []
  }
 ],
 "metadata": {
  "interpreter": {
   "hash": "0166448f751676955cf4a1fe6c574ee94d5d4fccd125fada50440631b5feaa53"
  },
  "kernelspec": {
   "display_name": "Python 3 (ipykernel)",
   "language": "python",
   "name": "python3"
  },
  "language_info": {
   "codemirror_mode": {
    "name": "ipython",
    "version": 3
   },
   "file_extension": ".py",
   "mimetype": "text/x-python",
   "name": "python",
   "nbconvert_exporter": "python",
   "pygments_lexer": "ipython3",
   "version": "3.10.0"
  }
 },
 "nbformat": 4,
 "nbformat_minor": 5
}
