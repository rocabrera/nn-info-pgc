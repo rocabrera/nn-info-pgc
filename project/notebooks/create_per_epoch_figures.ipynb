{
 "cells": [
  {
   "cell_type": "code",
   "execution_count": 1,
   "id": "1b241853-eed0-41ea-89b6-67b96e6e8025",
   "metadata": {},
   "outputs": [],
   "source": [
    "%load_ext autoreload\n",
    "%autoreload 2"
   ]
  },
  {
   "cell_type": "code",
   "execution_count": 2,
   "id": "9a6094b8-53ba-4563-af59-9749f692cd2d",
   "metadata": {},
   "outputs": [],
   "source": [
    "import os\n",
    "import sys \n",
    "from pathlib import Path\n",
    "from tqdm import tqdm\n",
    "\n",
    "\n",
    "from glob import glob\n",
    "root_path = os.path.dirname(os.getcwd())\n",
    "sys.path.insert(0, root_path)"
   ]
  },
  {
   "cell_type": "code",
   "execution_count": 3,
   "id": "09dc5be8-a224-4341-a618-dcd68ea3ccbb",
   "metadata": {},
   "outputs": [],
   "source": [
    "import pandas as pd\n",
    "from src.misc.project_figure_analysis import (create_weights_per_epoch, \n",
    "                                              create_information_per_epoch,\n",
    "                                              create_performance_per_epoch\n",
    "                                             )"
   ]
  },
  {
   "cell_type": "code",
   "execution_count": 4,
   "id": "a65afeb2-4bde-43be-9062-5fbfbd521d82",
   "metadata": {},
   "outputs": [],
   "source": [
    "parser = lambda path: os.path.basename(os.path.dirname(path))\n",
    "get_filename = lambda path: os.path.splitext(os.path.basename(path))[0]"
   ]
  },
  {
   "cell_type": "markdown",
   "id": "44716664-1b02-4745-8af7-8c3b1b464d1d",
   "metadata": {},
   "source": [
    "# **Criando imagens dos pesos por época**"
   ]
  },
  {
   "cell_type": "code",
   "execution_count": 5,
   "id": "a248324e-f2dd-40b3-a750-cd25dc71c259",
   "metadata": {},
   "outputs": [
    {
     "name": "stderr",
     "output_type": "stream",
     "text": [
      "100%|██████████████████████████████████████████████████████████████████████████████████████████████████████████████████████████████████████████████████████████████████████████| 49/49 [00:11<00:00,  4.33it/s]\n"
     ]
    }
   ],
   "source": [
    "for file_path in tqdm(glob(os.path.join(root_path, \"results\", \"**\", \"*.csv\"), recursive=True)):\n",
    "    \n",
    "    filename = get_filename(file_path)\n",
    "    \n",
    "    save_folderpath = os.path.join(root_path, \n",
    "                                   \"images\",\n",
    "                                   \"analysis\",\n",
    "                                   parser(os.path.dirname(file_path)),\n",
    "                                   parser(file_path),\n",
    "                                   filename)\n",
    "    \n",
    "    Path(save_folderpath).mkdir(parents=True, exist_ok=True)\n",
    "    df = pd.read_csv(file_path, sep=\";\") \n",
    "    \n",
    "    save_path = os.path.join(save_folderpath, \"weights_per_epoch.svg\")    \n",
    "    \n",
    "    create_weights_per_epoch(df, savepath=save_path)"
   ]
  },
  {
   "cell_type": "markdown",
   "id": "bb985c8b-de19-437f-b84a-3ac0a2d8f6a5",
   "metadata": {},
   "source": [
    "# **Criando imagens da informação mútua por época**"
   ]
  },
  {
   "cell_type": "code",
   "execution_count": 6,
   "id": "7f36da0b-060f-489d-b74d-33886b93be69",
   "metadata": {},
   "outputs": [
    {
     "name": "stderr",
     "output_type": "stream",
     "text": [
      "100%|██████████████████████████████████████████████████████████████████████████████████████████████████████████████████████████████████████████████████████████████████████████| 49/49 [00:09<00:00,  4.98it/s]\n"
     ]
    }
   ],
   "source": [
    "for file_path in tqdm(glob(os.path.join(root_path, \"results\", \"**\", \"*.csv\"), recursive=True)):\n",
    "    \n",
    "    filename = get_filename(file_path)\n",
    "    \n",
    "    save_folderpath = os.path.join(root_path, \n",
    "                                   \"images\",\n",
    "                                   \"analysis\",\n",
    "                                   parser(os.path.dirname(file_path)),\n",
    "                                   parser(file_path),\n",
    "                                   filename)\n",
    "    \n",
    "    Path(save_folderpath).mkdir(parents=True, exist_ok=True)\n",
    "    df = pd.read_csv(file_path, sep=\";\") \n",
    "    \n",
    "    save_path = os.path.join(save_folderpath, \"information_per_epoch.svg\")    \n",
    "    \n",
    "    create_information_per_epoch(df, savepath=save_path)    \n"
   ]
  },
  {
   "cell_type": "markdown",
   "id": "1466abf2-9735-4abf-aee8-4f9e742fdef0",
   "metadata": {},
   "source": [
    "# **Criando imagens de desempenho por época**"
   ]
  },
  {
   "cell_type": "code",
   "execution_count": 7,
   "id": "d9efd1a7-683e-42b2-a23a-0b00d484134b",
   "metadata": {
    "tags": []
   },
   "outputs": [
    {
     "name": "stderr",
     "output_type": "stream",
     "text": [
      "100%|██████████████████████████████████████████████████████████████████████████████████████████████████████████████████████████████████████████████████████████████████████████| 49/49 [00:07<00:00,  6.72it/s]\n"
     ]
    }
   ],
   "source": [
    "for file_path in tqdm(glob(os.path.join(root_path, \"results\", \"**\", \"*.csv\"), recursive=True)):\n",
    "    \n",
    "    filename = get_filename(file_path)\n",
    "    \n",
    "    save_folderpath = os.path.join(root_path, \n",
    "                                   \"images\",\n",
    "                                   \"analysis\",\n",
    "                                   parser(os.path.dirname(file_path)),\n",
    "                                   parser(file_path),\n",
    "                                   filename)\n",
    "    \n",
    "    Path(save_folderpath).mkdir(parents=True, exist_ok=True)\n",
    "    df = pd.read_csv(file_path, sep=\";\") \n",
    "    \n",
    "    save_path = os.path.join(save_folderpath, \"performance_per_epoch.svg\")    \n",
    "    \n",
    "    create_performance_per_epoch(df, savepath=save_path)    \n"
   ]
  }
 ],
 "metadata": {
  "interpreter": {
   "hash": "0166448f751676955cf4a1fe6c574ee94d5d4fccd125fada50440631b5feaa53"
  },
  "kernelspec": {
   "display_name": "venv_playground",
   "language": "python",
   "name": "venv_playground"
  },
  "language_info": {
   "codemirror_mode": {
    "name": "ipython",
    "version": 3
   },
   "file_extension": ".py",
   "mimetype": "text/x-python",
   "name": "python",
   "nbconvert_exporter": "python",
   "pygments_lexer": "ipython3",
   "version": "3.9.9"
  }
 },
 "nbformat": 4,
 "nbformat_minor": 5
}
