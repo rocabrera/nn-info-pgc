{
 "cells": [
  {
   "cell_type": "code",
   "execution_count": 16,
   "metadata": {},
   "outputs": [],
   "source": [
    "import os\n",
    "import pandas as pd\n",
    "\n",
    "from sklearn.datasets import load_breast_cancer"
   ]
  },
  {
   "cell_type": "code",
   "execution_count": 34,
   "metadata": {},
   "outputs": [
    {
     "data": {
      "text/plain": [
       "'/home/rocabrera/Desktop/nn-info-pgc/project'"
      ]
     },
     "execution_count": 34,
     "metadata": {},
     "output_type": "execute_result"
    }
   ],
   "source": [
    "root_path = os.path.dirname(os.path.dirname(os.getcwd()))\n",
    "root_path"
   ]
  },
  {
   "cell_type": "markdown",
   "metadata": {},
   "source": [
    "## **Breat Cancer Dataset** "
   ]
  },
  {
   "cell_type": "code",
   "execution_count": 36,
   "metadata": {},
   "outputs": [
    {
     "data": {
      "text/plain": [
       "(569, 31)"
      ]
     },
     "execution_count": 36,
     "metadata": {},
     "output_type": "execute_result"
    }
   ],
   "source": [
    "bunch = load_breast_cancer(as_frame=True)\n",
    "\n",
    "X = bunch[\"data\"]\n",
    "y = bunch[\"target\"]\n",
    "\n",
    "df = pd.concat([X, y], axis=1)\n",
    "df.to_csv(os.path.join(root_path, \"data\", \"breast_cancer.csv\"), index = False)\n",
    "df.shape"
   ]
  }
 ],
 "metadata": {
  "interpreter": {
   "hash": "0166448f751676955cf4a1fe6c574ee94d5d4fccd125fada50440631b5feaa53"
  },
  "kernelspec": {
   "display_name": "Python 3.9.9 64-bit ('venv_playground': pyenv)",
   "language": "python",
   "name": "python3"
  },
  "language_info": {
   "codemirror_mode": {
    "name": "ipython",
    "version": 3
   },
   "file_extension": ".py",
   "mimetype": "text/x-python",
   "name": "python",
   "nbconvert_exporter": "python",
   "pygments_lexer": "ipython3",
   "version": "3.9.9"
  },
  "orig_nbformat": 4
 },
 "nbformat": 4,
 "nbformat_minor": 2
}
