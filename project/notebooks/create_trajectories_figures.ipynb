{
 "cells": [
  {
   "cell_type": "code",
   "execution_count": 1,
   "id": "1b241853-eed0-41ea-89b6-67b96e6e8025",
   "metadata": {},
   "outputs": [],
   "source": [
    "%load_ext autoreload\n",
    "%autoreload 2"
   ]
  },
  {
   "cell_type": "code",
   "execution_count": 2,
   "id": "9a6094b8-53ba-4563-af59-9749f692cd2d",
   "metadata": {},
   "outputs": [],
   "source": [
    "import os\n",
    "import sys \n",
    "from pathlib import Path\n",
    "from tqdm import tqdm\n",
    "\n",
    "\n",
    "from glob import glob\n",
    "root_path = os.path.dirname(os.getcwd())\n",
    "sys.path.insert(0, root_path)"
   ]
  },
  {
   "cell_type": "code",
   "execution_count": 3,
   "id": "09dc5be8-a224-4341-a618-dcd68ea3ccbb",
   "metadata": {},
   "outputs": [],
   "source": [
    "import pandas as pd\n",
    "from src.misc.project_figure_analysis import create_scatter_mean_trajectory, create_lineplot_rand_init"
   ]
  },
  {
   "cell_type": "code",
   "execution_count": 4,
   "id": "66b489d8-e00b-4a99-a45f-efbdfe89be9f",
   "metadata": {},
   "outputs": [],
   "source": [
    "parser = lambda path: os.path.basename(os.path.dirname(path))\n",
    "get_filename = lambda path: os.path.splitext(os.path.basename(path))[0]"
   ]
  },
  {
   "cell_type": "markdown",
   "id": "363eae0f-c5b9-4af3-a32f-6c8847a5e41f",
   "metadata": {},
   "source": [
    "# **Criando imagens de trajetoria média**"
   ]
  },
  {
   "cell_type": "code",
   "execution_count": 5,
   "id": "b37221d1-2a5f-4dc8-81eb-c3d1f202f336",
   "metadata": {
    "tags": []
   },
   "outputs": [
    {
     "name": "stderr",
     "output_type": "stream",
     "text": [
      "100%|██████████████████████████████████████████████████████████████████████████████████████████████████████████████████████████████████████████████████████████████████████████| 49/49 [00:09<00:00,  4.90it/s]\n"
     ]
    }
   ],
   "source": [
    "for file_path in tqdm(glob(os.path.join(root_path, \"results\", \"**\", \"*.csv\"), recursive=True)):\n",
    "    filename = get_filename(file_path)\n",
    "\n",
    "    save_folderpath = os.path.join(root_path, \n",
    "                                   \"images\",\n",
    "                                   \"analysis\",\n",
    "                                   parser(os.path.dirname(file_path)),\n",
    "                                   parser(file_path),\n",
    "                                   filename)\n",
    "    \n",
    "    Path(save_folderpath).mkdir(parents=True, exist_ok=True)\n",
    "    df = pd.read_csv(file_path, sep=\";\")   \n",
    "    \n",
    "    save_path = os.path.join(save_folderpath, \"mean_trajectory.png\")\n",
    "    create_scatter_mean_trajectory(df, save_path)"
   ]
  },
  {
   "cell_type": "markdown",
   "id": "c84bb7b7-c637-4563-801e-9df3aa84077b",
   "metadata": {},
   "source": [
    "# **Criando imagens de trajetoria por inicializacao**"
   ]
  },
  {
   "cell_type": "code",
   "execution_count": 6,
   "id": "2b397563-aa02-4954-95b0-8903e9863315",
   "metadata": {},
   "outputs": [
    {
     "name": "stderr",
     "output_type": "stream",
     "text": [
      "100%|██████████████████████████████████████████████████████████████████████████████████████████████████████████████████████████████████████████████████████████████████████████| 49/49 [07:19<00:00,  8.98s/it]\n"
     ]
    }
   ],
   "source": [
    "for file_path in tqdm(glob(os.path.join(root_path, \"results\", \"**\", \"*.csv\"), recursive=True)):\n",
    "    filename = get_filename(file_path)\n",
    "\n",
    "    save_folderpath = os.path.join(root_path, \n",
    "                                   \"images\",\n",
    "                                   \"analysis\",\n",
    "                                   parser(os.path.dirname(file_path)),\n",
    "                                   parser(file_path),\n",
    "                                   filename)\n",
    "    \n",
    "    Path(save_folderpath).mkdir(parents=True, exist_ok=True)\n",
    "    df = pd.read_csv(file_path, sep=\";\")   \n",
    "    \n",
    "    save_path = os.path.join(save_folderpath, \"rand_init_trajectory.png\")\n",
    "    create_lineplot_rand_init(df, save_path)"
   ]
  }
 ],
 "metadata": {
  "interpreter": {
   "hash": "0166448f751676955cf4a1fe6c574ee94d5d4fccd125fada50440631b5feaa53"
  },
  "kernelspec": {
   "display_name": "venv_playground",
   "language": "python",
   "name": "venv_playground"
  },
  "language_info": {
   "codemirror_mode": {
    "name": "ipython",
    "version": 3
   },
   "file_extension": ".py",
   "mimetype": "text/x-python",
   "name": "python",
   "nbconvert_exporter": "python",
   "pygments_lexer": "ipython3",
   "version": "3.9.9"
  }
 },
 "nbformat": 4,
 "nbformat_minor": 5
}
