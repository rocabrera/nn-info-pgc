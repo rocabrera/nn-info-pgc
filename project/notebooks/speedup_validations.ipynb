{
 "cells": [
  {
   "cell_type": "code",
   "execution_count": 1,
   "metadata": {},
   "outputs": [],
   "source": [
    "import re\n",
    "import os\n",
    "import sys\n",
    "root_path = os.path.dirname(os.getcwd())\n",
    "sys.path.insert(0, root_path)\n",
    "sys.path.insert(0, os.path.join(root_path, \"src\"))"
   ]
  },
  {
   "cell_type": "markdown",
   "metadata": {},
   "source": [
    "# **Multivariate Gaussian**"
   ]
  },
  {
   "cell_type": "code",
   "execution_count": 7,
   "metadata": {},
   "outputs": [],
   "source": [
    "import numba\n",
    "import numpy as np\n",
    "\n",
    "def multivariate_gaussian(x, y, Hinv, Hdet):\n",
    "    expoente = (-1 / 2) * np.dot(np.dot((x - y).T, Hinv), (x - y))\n",
    "    denominador = np.power(2 * np.pi, len(x)) * Hdet\n",
    "    return np.exp(expoente) / np.sqrt(denominador)\n",
    "\n",
    "\n",
    "@numba.jit(nopython=True)\n",
    "def multivariate_gaussian_numba(x, y, Hinv, Hdet):\n",
    "    expoente = (-1 / 2) * np.dot(np.dot((x - y).T, Hinv), (x - y))\n",
    "    denominador = np.power(2 * np.pi, len(x)) * Hdet\n",
    "    return np.exp(expoente) / np.sqrt(denominador)"
   ]
  },
  {
   "cell_type": "code",
   "execution_count": 8,
   "metadata": {},
   "outputs": [],
   "source": [
    "array = np.random.randn(1000,2)\n",
    "kernel_size = 0.2\n",
    "\n",
    "nrows, ncols = array.shape\n",
    "\n",
    "H = np.power(kernel_size, 2) * np.eye(ncols)\n",
    "Hinv = np.linalg.pinv(H)\n",
    "Hdet = np.power(np.power(kernel_size, 2), ncols)  # nesse caso em especifico\n",
    "# pdb.set_trace()"
   ]
  },
  {
   "cell_type": "markdown",
   "metadata": {},
   "source": [
    "## **Com numba**"
   ]
  },
  {
   "cell_type": "code",
   "execution_count": 9,
   "metadata": {},
   "outputs": [
    {
     "data": {
      "text/plain": [
       "3.9269910879057663"
      ]
     },
     "execution_count": 9,
     "metadata": {},
     "output_type": "execute_result"
    }
   ],
   "source": [
    "(-1 / nrows) * sum(\n",
    "        np.log2(sum(multivariate_gaussian_numba(i, j, Hinv, Hdet) for j in array) / nrows)\n",
    "        for i in array\n",
    ")"
   ]
  },
  {
   "cell_type": "code",
   "execution_count": 10,
   "metadata": {},
   "outputs": [
    {
     "name": "stdout",
     "output_type": "stream",
     "text": [
      "842 ms ± 4.26 ms per loop (mean ± std. dev. of 7 runs, 1 loop each)\n"
     ]
    }
   ],
   "source": [
    "%%timeit\n",
    "(-1 / nrows) * sum(\n",
    "        np.log2(sum(multivariate_gaussian_numba(i, j, Hinv, Hdet) for j in array) / nrows)\n",
    "        for i in array\n",
    ")"
   ]
  },
  {
   "cell_type": "markdown",
   "metadata": {},
   "source": [
    "## **Sem numba**\n"
   ]
  },
  {
   "cell_type": "code",
   "execution_count": 11,
   "metadata": {},
   "outputs": [
    {
     "data": {
      "text/plain": [
       "3.9269910879057663"
      ]
     },
     "execution_count": 11,
     "metadata": {},
     "output_type": "execute_result"
    }
   ],
   "source": [
    "(-1 / nrows) * sum(\n",
    "        np.log2(sum(multivariate_gaussian(i, j, Hinv, Hdet) for j in array) / nrows)\n",
    "        for i in array\n",
    ")"
   ]
  },
  {
   "cell_type": "code",
   "execution_count": 12,
   "metadata": {},
   "outputs": [
    {
     "name": "stdout",
     "output_type": "stream",
     "text": [
      "8.58 s ± 37.8 ms per loop (mean ± std. dev. of 7 runs, 1 loop each)\n"
     ]
    }
   ],
   "source": [
    "%%timeit\n",
    "(-1 / nrows) * sum(\n",
    "        np.log2(sum(multivariate_gaussian(i, j, Hinv, Hdet) for j in array) / nrows)\n",
    "        for i in array\n",
    ")"
   ]
  }
 ],
 "metadata": {
  "interpreter": {
   "hash": "a8d3132372b981c704a790e3b54315a0a4637aeef5c1b67ee15bdfbd744a5531"
  },
  "kernelspec": {
   "display_name": "Python 3.7.11 64-bit ('venv_torch')",
   "language": "python",
   "name": "python3"
  },
  "language_info": {
   "codemirror_mode": {
    "name": "ipython",
    "version": 3
   },
   "file_extension": ".py",
   "mimetype": "text/x-python",
   "name": "python",
   "nbconvert_exporter": "python",
   "pygments_lexer": "ipython3",
   "version": "3.7.11"
  },
  "orig_nbformat": 4
 },
 "nbformat": 4,
 "nbformat_minor": 2
}
