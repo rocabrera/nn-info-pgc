{
 "cells": [
  {
   "cell_type": "code",
   "execution_count": 1,
   "metadata": {},
   "outputs": [],
   "source": [
    "%load_ext autoreload\n",
    "%autoreload 2"
   ]
  },
  {
   "cell_type": "code",
   "execution_count": 2,
   "metadata": {},
   "outputs": [],
   "source": [
    "import re\n",
    "import os\n",
    "import sys \n",
    "from os import path\n",
    "root_path = os.path.dirname(os.getcwd())\n",
    "sys.path.insert(0, root_path)\n",
    "sys.path.insert(0, os.path.join(root_path, \"src\"))"
   ]
  },
  {
   "cell_type": "code",
   "execution_count": 3,
   "metadata": {},
   "outputs": [],
   "source": [
    "from misc.make_figures import create_figures"
   ]
  },
  {
   "cell_type": "code",
   "execution_count": 4,
   "metadata": {},
   "outputs": [],
   "source": [
    "parser = lambda path: os.path.basename(os.path.dirname(path))\n",
    "get_filename = lambda path: os.path.splitext(os.path.basename(result_file_path))[0]"
   ]
  },
  {
   "cell_type": "code",
   "execution_count": 5,
   "metadata": {},
   "outputs": [
    {
     "name": "stderr",
     "output_type": "stream",
     "text": [
      "Image Epoch:   0%|                                                                                                                                                                     | 0/200 [00:00<?, ?it/s]findfont: Font family ['serif'] not found. Falling back to DejaVu Sans.\n",
      "findfont: Generic family 'serif' not found because none of the following families were found: Times\n",
      "findfont: Font family ['serif'] not found. Falling back to DejaVu Sans.\n",
      "findfont: Generic family 'serif' not found because none of the following families were found: Times\n",
      "findfont: Font family ['serif'] not found. Falling back to DejaVu Sans.\n",
      "findfont: Generic family 'serif' not found because none of the following families were found: Times\n",
      "Image Epoch: 100%|███████████████████████████████████████████████████████████████████████████████████████████████████████████████████████████████████████████████████████████| 200/200 [00:40<00:00,  4.89it/s]\n"
     ]
    }
   ],
   "source": [
    "result_file_path = \"/home/rocabrera/Desktop/nn-info-pgc/project/results/discrete/make_circles_4/bins10_epochs200_arch5_lr0.15_samplepct1.csv\"\n",
    "filename = get_filename(result_file_path)\n",
    "match = re.search(\"epochs(\\d+)\", filename)\n",
    "epochs = int(match.group(1))\n",
    "\n",
    "save_folderpath = os.path.join(root_path, \n",
    "                               \"images\",\n",
    "                               parser(os.path.dirname(result_file_path)),\n",
    "                               parser(result_file_path),\n",
    "                               filename)\n",
    "\n",
    "create_figures(result_file_path=result_file_path,\n",
    "               epochs=epochs,\n",
    "               save_folderpath=save_folderpath)"
   ]
  },
  {
   "cell_type": "code",
   "execution_count": null,
   "metadata": {},
   "outputs": [],
   "source": []
  }
 ],
 "metadata": {
  "interpreter": {
   "hash": "a8d3132372b981c704a790e3b54315a0a4637aeef5c1b67ee15bdfbd744a5531"
  },
  "kernelspec": {
   "display_name": "venv_torch",
   "language": "python",
   "name": "venv_torch"
  },
  "language_info": {
   "codemirror_mode": {
    "name": "ipython",
    "version": 3
   },
   "file_extension": ".py",
   "mimetype": "text/x-python",
   "name": "python",
   "nbconvert_exporter": "python",
   "pygments_lexer": "ipython3",
   "version": "3.7.11"
  }
 },
 "nbformat": 4,
 "nbformat_minor": 4
}
