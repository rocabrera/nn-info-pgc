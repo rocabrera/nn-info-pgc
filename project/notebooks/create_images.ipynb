{
 "cells": [
  {
   "cell_type": "code",
   "execution_count": 4,
   "metadata": {},
   "outputs": [],
   "source": [
    "import os\n",
    "import re\n",
    "import sys \n",
    "root_path = os.path.dirname(os.getcwd())\n",
    "sys.path.insert(0, root_path)\n",
    "from src.misc.make_figures import create_figures"
   ]
  },
  {
   "cell_type": "code",
   "execution_count": 5,
   "metadata": {},
   "outputs": [],
   "source": [
    "parser = lambda path: os.path.basename(os.path.dirname(path))\n",
    "get_filename = lambda path: os.path.splitext(os.path.basename(result_file_path))[0]"
   ]
  },
  {
   "cell_type": "code",
   "execution_count": 6,
   "metadata": {},
   "outputs": [
    {
     "name": "stderr",
     "output_type": "stream",
     "text": [
      "Image Epoch: 100%|██████████| 10/10 [00:10<00:00,  1.02s/it]\n"
     ]
    }
   ],
   "source": [
    "\n",
    "result_file_path = \"/home/rocabrera/Desktop/nn-info-pgc/project/results/continuos/make_circles_3/kernelsize5_epochs10_arch5_lr0.15_samplepct0.1.csv\"\n",
    "filename = get_filename(result_file_path)\n",
    "match = re.search(\"epochs(\\d+)\", filename)\n",
    "epochs = int(match.group(1))\n",
    "\n",
    "save_folderpath = os.path.join(root_path, \n",
    "                               \"images\",\n",
    "                               parser(os.path.dirname(result_file_path)),\n",
    "                               parser(result_file_path),\n",
    "                               filename)\n",
    "\n",
    "create_figures(result_file_path=result_file_path,\n",
    "               epochs=epochs,\n",
    "               save_folderpath=save_folderpath)"
   ]
  }
 ],
 "metadata": {
  "interpreter": {
   "hash": "a8d3132372b981c704a790e3b54315a0a4637aeef5c1b67ee15bdfbd744a5531"
  },
  "kernelspec": {
   "display_name": "Python 3.7.11 64-bit ('venv_torch')",
   "language": "python",
   "name": "python3"
  },
  "language_info": {
   "codemirror_mode": {
    "name": "ipython",
    "version": 3
   },
   "file_extension": ".py",
   "mimetype": "text/x-python",
   "name": "python",
   "nbconvert_exporter": "python",
   "pygments_lexer": "ipython3",
   "version": "3.7.11"
  },
  "orig_nbformat": 4
 },
 "nbformat": 4,
 "nbformat_minor": 2
}
